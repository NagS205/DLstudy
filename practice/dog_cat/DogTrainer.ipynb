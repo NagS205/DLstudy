{
 "cells": [
  {
   "cell_type": "code",
   "execution_count": 1,
   "id": "23a97ec3-19a9-4066-84d2-0366ac129f8f",
   "metadata": {},
   "outputs": [
    {
     "name": "stderr",
     "output_type": "stream",
     "text": [
      "2022-11-28 22:07:26.589360: W tensorflow/stream_executor/platform/default/dso_loader.cc:64] Could not load dynamic library 'libcudart.so.11.0'; dlerror: libcudart.so.11.0: cannot open shared object file: No such file or directory; LD_LIBRARY_PATH: /home/nags205/root/build/lib\n",
      "2022-11-28 22:07:26.589493: I tensorflow/stream_executor/cuda/cudart_stub.cc:29] Ignore above cudart dlerror if you do not have a GPU set up on your machine.\n"
     ]
    },
    {
     "ename": "KeyboardInterrupt",
     "evalue": "",
     "output_type": "error",
     "traceback": [
      "\u001b[0;31m---------------------------------------------------------------------------\u001b[0m",
      "\u001b[0;31mKeyboardInterrupt\u001b[0m                         Traceback (most recent call last)",
      "Input \u001b[0;32mIn [1]\u001b[0m, in \u001b[0;36m<cell line: 1>\u001b[0;34m()\u001b[0m\n\u001b[0;32m----> 1\u001b[0m \u001b[38;5;28;01mimport\u001b[39;00m \u001b[38;5;21;01mtensorflow\u001b[39;00m \u001b[38;5;28;01mas\u001b[39;00m \u001b[38;5;21;01mtf\u001b[39;00m\n\u001b[1;32m      2\u001b[0m \u001b[38;5;28;01mfrom\u001b[39;00m \u001b[38;5;21;01mtensorflow\u001b[39;00m\u001b[38;5;21;01m.\u001b[39;00m\u001b[38;5;21;01mkeras\u001b[39;00m \u001b[38;5;28;01mimport\u001b[39;00m datasets, layers, models\n\u001b[1;32m      3\u001b[0m \u001b[38;5;28;01mfrom\u001b[39;00m \u001b[38;5;21;01msrc\u001b[39;00m\u001b[38;5;21;01m.\u001b[39;00m\u001b[38;5;21;01mLoadDogs\u001b[39;00m \u001b[38;5;28;01mimport\u001b[39;00m create_training_data\n",
      "File \u001b[0;32m~/.local/lib/python3.8/site-packages/tensorflow/__init__.py:37\u001b[0m, in \u001b[0;36m<module>\u001b[0;34m\u001b[0m\n\u001b[1;32m     34\u001b[0m \u001b[38;5;28;01mimport\u001b[39;00m \u001b[38;5;21;01msys\u001b[39;00m \u001b[38;5;28;01mas\u001b[39;00m \u001b[38;5;21;01m_sys\u001b[39;00m\n\u001b[1;32m     35\u001b[0m \u001b[38;5;28;01mimport\u001b[39;00m \u001b[38;5;21;01mtyping\u001b[39;00m \u001b[38;5;28;01mas\u001b[39;00m \u001b[38;5;21;01m_typing\u001b[39;00m\n\u001b[0;32m---> 37\u001b[0m \u001b[38;5;28;01mfrom\u001b[39;00m \u001b[38;5;21;01mtensorflow\u001b[39;00m\u001b[38;5;21;01m.\u001b[39;00m\u001b[38;5;21;01mpython\u001b[39;00m\u001b[38;5;21;01m.\u001b[39;00m\u001b[38;5;21;01mtools\u001b[39;00m \u001b[38;5;28;01mimport\u001b[39;00m module_util \u001b[38;5;28;01mas\u001b[39;00m _module_util\n\u001b[1;32m     38\u001b[0m \u001b[38;5;28;01mfrom\u001b[39;00m \u001b[38;5;21;01mtensorflow\u001b[39;00m\u001b[38;5;21;01m.\u001b[39;00m\u001b[38;5;21;01mpython\u001b[39;00m\u001b[38;5;21;01m.\u001b[39;00m\u001b[38;5;21;01mutil\u001b[39;00m\u001b[38;5;21;01m.\u001b[39;00m\u001b[38;5;21;01mlazy_loader\u001b[39;00m \u001b[38;5;28;01mimport\u001b[39;00m LazyLoader \u001b[38;5;28;01mas\u001b[39;00m _LazyLoader\n\u001b[1;32m     40\u001b[0m \u001b[38;5;66;03m# Make sure code inside the TensorFlow codebase can use tf2.enabled() at import.\u001b[39;00m\n",
      "File \u001b[0;32m~/.local/lib/python3.8/site-packages/tensorflow/python/__init__.py:45\u001b[0m, in \u001b[0;36m<module>\u001b[0;34m\u001b[0m\n\u001b[1;32m     43\u001b[0m \u001b[38;5;28;01mfrom\u001b[39;00m \u001b[38;5;21;01mtensorflow\u001b[39;00m\u001b[38;5;21;01m.\u001b[39;00m\u001b[38;5;21;01mpython\u001b[39;00m \u001b[38;5;28;01mimport\u001b[39;00m distribute\n\u001b[1;32m     44\u001b[0m \u001b[38;5;66;03m# from tensorflow.python import keras\u001b[39;00m\n\u001b[0;32m---> 45\u001b[0m \u001b[38;5;28;01mfrom\u001b[39;00m \u001b[38;5;21;01mtensorflow\u001b[39;00m\u001b[38;5;21;01m.\u001b[39;00m\u001b[38;5;21;01mpython\u001b[39;00m\u001b[38;5;21;01m.\u001b[39;00m\u001b[38;5;21;01mfeature_column\u001b[39;00m \u001b[38;5;28;01mimport\u001b[39;00m feature_column_lib \u001b[38;5;28;01mas\u001b[39;00m feature_column\n\u001b[1;32m     46\u001b[0m \u001b[38;5;66;03m# from tensorflow.python.layers import layers\u001b[39;00m\n\u001b[1;32m     47\u001b[0m \u001b[38;5;28;01mfrom\u001b[39;00m \u001b[38;5;21;01mtensorflow\u001b[39;00m\u001b[38;5;21;01m.\u001b[39;00m\u001b[38;5;21;01mpython\u001b[39;00m\u001b[38;5;21;01m.\u001b[39;00m\u001b[38;5;21;01mmodule\u001b[39;00m \u001b[38;5;28;01mimport\u001b[39;00m module\n",
      "File \u001b[0;32m~/.local/lib/python3.8/site-packages/tensorflow/python/feature_column/feature_column_lib.py:18\u001b[0m, in \u001b[0;36m<module>\u001b[0;34m\u001b[0m\n\u001b[1;32m     15\u001b[0m \u001b[38;5;124;03m\"\"\"FeatureColumns: tools for ingesting and representing features.\"\"\"\u001b[39;00m\n\u001b[1;32m     17\u001b[0m \u001b[38;5;66;03m# pylint: disable=unused-import,line-too-long,wildcard-import,g-bad-import-order\u001b[39;00m\n\u001b[0;32m---> 18\u001b[0m \u001b[38;5;28;01mfrom\u001b[39;00m \u001b[38;5;21;01mtensorflow\u001b[39;00m\u001b[38;5;21;01m.\u001b[39;00m\u001b[38;5;21;01mpython\u001b[39;00m\u001b[38;5;21;01m.\u001b[39;00m\u001b[38;5;21;01mfeature_column\u001b[39;00m\u001b[38;5;21;01m.\u001b[39;00m\u001b[38;5;21;01mfeature_column\u001b[39;00m \u001b[38;5;28;01mimport\u001b[39;00m \u001b[38;5;241m*\u001b[39m\n\u001b[1;32m     19\u001b[0m \u001b[38;5;28;01mfrom\u001b[39;00m \u001b[38;5;21;01mtensorflow\u001b[39;00m\u001b[38;5;21;01m.\u001b[39;00m\u001b[38;5;21;01mpython\u001b[39;00m\u001b[38;5;21;01m.\u001b[39;00m\u001b[38;5;21;01mfeature_column\u001b[39;00m\u001b[38;5;21;01m.\u001b[39;00m\u001b[38;5;21;01mfeature_column_v2\u001b[39;00m \u001b[38;5;28;01mimport\u001b[39;00m \u001b[38;5;241m*\u001b[39m\n\u001b[1;32m     20\u001b[0m \u001b[38;5;28;01mfrom\u001b[39;00m \u001b[38;5;21;01mtensorflow\u001b[39;00m\u001b[38;5;21;01m.\u001b[39;00m\u001b[38;5;21;01mpython\u001b[39;00m\u001b[38;5;21;01m.\u001b[39;00m\u001b[38;5;21;01mfeature_column\u001b[39;00m\u001b[38;5;21;01m.\u001b[39;00m\u001b[38;5;21;01msequence_feature_column\u001b[39;00m \u001b[38;5;28;01mimport\u001b[39;00m \u001b[38;5;241m*\u001b[39m\n",
      "File \u001b[0;32m~/.local/lib/python3.8/site-packages/tensorflow/python/feature_column/feature_column.py:143\u001b[0m, in \u001b[0;36m<module>\u001b[0;34m\u001b[0m\n\u001b[1;32m    141\u001b[0m \u001b[38;5;28;01mfrom\u001b[39;00m \u001b[38;5;21;01mtensorflow\u001b[39;00m\u001b[38;5;21;01m.\u001b[39;00m\u001b[38;5;21;01mpython\u001b[39;00m\u001b[38;5;21;01m.\u001b[39;00m\u001b[38;5;21;01mframework\u001b[39;00m \u001b[38;5;28;01mimport\u001b[39;00m sparse_tensor \u001b[38;5;28;01mas\u001b[39;00m sparse_tensor_lib\n\u001b[1;32m    142\u001b[0m \u001b[38;5;28;01mfrom\u001b[39;00m \u001b[38;5;21;01mtensorflow\u001b[39;00m\u001b[38;5;21;01m.\u001b[39;00m\u001b[38;5;21;01mpython\u001b[39;00m\u001b[38;5;21;01m.\u001b[39;00m\u001b[38;5;21;01mframework\u001b[39;00m \u001b[38;5;28;01mimport\u001b[39;00m tensor_shape\n\u001b[0;32m--> 143\u001b[0m \u001b[38;5;28;01mfrom\u001b[39;00m \u001b[38;5;21;01mtensorflow\u001b[39;00m\u001b[38;5;21;01m.\u001b[39;00m\u001b[38;5;21;01mpython\u001b[39;00m\u001b[38;5;21;01m.\u001b[39;00m\u001b[38;5;21;01mlayers\u001b[39;00m \u001b[38;5;28;01mimport\u001b[39;00m base\n\u001b[1;32m    144\u001b[0m \u001b[38;5;28;01mfrom\u001b[39;00m \u001b[38;5;21;01mtensorflow\u001b[39;00m\u001b[38;5;21;01m.\u001b[39;00m\u001b[38;5;21;01mpython\u001b[39;00m\u001b[38;5;21;01m.\u001b[39;00m\u001b[38;5;21;01mops\u001b[39;00m \u001b[38;5;28;01mimport\u001b[39;00m array_ops\n\u001b[1;32m    145\u001b[0m \u001b[38;5;28;01mfrom\u001b[39;00m \u001b[38;5;21;01mtensorflow\u001b[39;00m\u001b[38;5;21;01m.\u001b[39;00m\u001b[38;5;21;01mpython\u001b[39;00m\u001b[38;5;21;01m.\u001b[39;00m\u001b[38;5;21;01mops\u001b[39;00m \u001b[38;5;28;01mimport\u001b[39;00m check_ops\n",
      "File \u001b[0;32m~/.local/lib/python3.8/site-packages/tensorflow/python/layers/base.py:16\u001b[0m, in \u001b[0;36m<module>\u001b[0;34m\u001b[0m\n\u001b[1;32m      1\u001b[0m \u001b[38;5;66;03m# Copyright 2015 The TensorFlow Authors. All Rights Reserved.\u001b[39;00m\n\u001b[1;32m      2\u001b[0m \u001b[38;5;66;03m#\u001b[39;00m\n\u001b[1;32m      3\u001b[0m \u001b[38;5;66;03m# Licensed under the Apache License, Version 2.0 (the \"License\");\u001b[39;00m\n\u001b[0;32m   (...)\u001b[0m\n\u001b[1;32m     13\u001b[0m \u001b[38;5;66;03m# limitations under the License.\u001b[39;00m\n\u001b[1;32m     14\u001b[0m \u001b[38;5;66;03m# =============================================================================\u001b[39;00m\n\u001b[1;32m     15\u001b[0m \u001b[38;5;124;03m\"\"\"Contains the base Layer class, from which all layers inherit.\"\"\"\u001b[39;00m\n\u001b[0;32m---> 16\u001b[0m \u001b[38;5;28;01mfrom\u001b[39;00m \u001b[38;5;21;01mtensorflow\u001b[39;00m\u001b[38;5;21;01m.\u001b[39;00m\u001b[38;5;21;01mpython\u001b[39;00m\u001b[38;5;21;01m.\u001b[39;00m\u001b[38;5;21;01mkeras\u001b[39;00m\u001b[38;5;21;01m.\u001b[39;00m\u001b[38;5;21;01mlegacy_tf_layers\u001b[39;00m \u001b[38;5;28;01mimport\u001b[39;00m base\n\u001b[1;32m     18\u001b[0m InputSpec \u001b[38;5;241m=\u001b[39m base\u001b[38;5;241m.\u001b[39mInputSpec\n\u001b[1;32m     20\u001b[0m keras_style_scope \u001b[38;5;241m=\u001b[39m base\u001b[38;5;241m.\u001b[39mkeras_style_scope\n",
      "File \u001b[0;32m~/.local/lib/python3.8/site-packages/tensorflow/python/keras/__init__.py:25\u001b[0m, in \u001b[0;36m<module>\u001b[0;34m\u001b[0m\n\u001b[1;32m     22\u001b[0m \u001b[38;5;28;01mfrom\u001b[39;00m \u001b[38;5;21;01mtensorflow\u001b[39;00m\u001b[38;5;21;01m.\u001b[39;00m\u001b[38;5;21;01mpython\u001b[39;00m\u001b[38;5;21;01m.\u001b[39;00m\u001b[38;5;21;01mkeras\u001b[39;00m \u001b[38;5;28;01mimport\u001b[39;00m distribute\n\u001b[1;32m     24\u001b[0m \u001b[38;5;66;03m# See b/110718070#comment18 for more details about this import.\u001b[39;00m\n\u001b[0;32m---> 25\u001b[0m \u001b[38;5;28;01mfrom\u001b[39;00m \u001b[38;5;21;01mtensorflow\u001b[39;00m\u001b[38;5;21;01m.\u001b[39;00m\u001b[38;5;21;01mpython\u001b[39;00m\u001b[38;5;21;01m.\u001b[39;00m\u001b[38;5;21;01mkeras\u001b[39;00m \u001b[38;5;28;01mimport\u001b[39;00m models\n\u001b[1;32m     27\u001b[0m \u001b[38;5;28;01mfrom\u001b[39;00m \u001b[38;5;21;01mtensorflow\u001b[39;00m\u001b[38;5;21;01m.\u001b[39;00m\u001b[38;5;21;01mpython\u001b[39;00m\u001b[38;5;21;01m.\u001b[39;00m\u001b[38;5;21;01mkeras\u001b[39;00m\u001b[38;5;21;01m.\u001b[39;00m\u001b[38;5;21;01mengine\u001b[39;00m\u001b[38;5;21;01m.\u001b[39;00m\u001b[38;5;21;01minput_layer\u001b[39;00m \u001b[38;5;28;01mimport\u001b[39;00m Input\n\u001b[1;32m     28\u001b[0m \u001b[38;5;28;01mfrom\u001b[39;00m \u001b[38;5;21;01mtensorflow\u001b[39;00m\u001b[38;5;21;01m.\u001b[39;00m\u001b[38;5;21;01mpython\u001b[39;00m\u001b[38;5;21;01m.\u001b[39;00m\u001b[38;5;21;01mkeras\u001b[39;00m\u001b[38;5;21;01m.\u001b[39;00m\u001b[38;5;21;01mengine\u001b[39;00m\u001b[38;5;21;01m.\u001b[39;00m\u001b[38;5;21;01msequential\u001b[39;00m \u001b[38;5;28;01mimport\u001b[39;00m Sequential\n",
      "File \u001b[0;32m~/.local/lib/python3.8/site-packages/tensorflow/python/keras/models.py:20\u001b[0m, in \u001b[0;36m<module>\u001b[0;34m\u001b[0m\n\u001b[1;32m     18\u001b[0m \u001b[38;5;28;01mfrom\u001b[39;00m \u001b[38;5;21;01mtensorflow\u001b[39;00m\u001b[38;5;21;01m.\u001b[39;00m\u001b[38;5;21;01mpython\u001b[39;00m\u001b[38;5;21;01m.\u001b[39;00m\u001b[38;5;21;01mframework\u001b[39;00m \u001b[38;5;28;01mimport\u001b[39;00m ops\n\u001b[1;32m     19\u001b[0m \u001b[38;5;28;01mfrom\u001b[39;00m \u001b[38;5;21;01mtensorflow\u001b[39;00m\u001b[38;5;21;01m.\u001b[39;00m\u001b[38;5;21;01mpython\u001b[39;00m\u001b[38;5;21;01m.\u001b[39;00m\u001b[38;5;21;01mkeras\u001b[39;00m \u001b[38;5;28;01mimport\u001b[39;00m backend\n\u001b[0;32m---> 20\u001b[0m \u001b[38;5;28;01mfrom\u001b[39;00m \u001b[38;5;21;01mtensorflow\u001b[39;00m\u001b[38;5;21;01m.\u001b[39;00m\u001b[38;5;21;01mpython\u001b[39;00m\u001b[38;5;21;01m.\u001b[39;00m\u001b[38;5;21;01mkeras\u001b[39;00m \u001b[38;5;28;01mimport\u001b[39;00m metrics \u001b[38;5;28;01mas\u001b[39;00m metrics_module\n\u001b[1;32m     21\u001b[0m \u001b[38;5;28;01mfrom\u001b[39;00m \u001b[38;5;21;01mtensorflow\u001b[39;00m\u001b[38;5;21;01m.\u001b[39;00m\u001b[38;5;21;01mpython\u001b[39;00m\u001b[38;5;21;01m.\u001b[39;00m\u001b[38;5;21;01mkeras\u001b[39;00m \u001b[38;5;28;01mimport\u001b[39;00m optimizer_v1\n\u001b[1;32m     22\u001b[0m \u001b[38;5;28;01mfrom\u001b[39;00m \u001b[38;5;21;01mtensorflow\u001b[39;00m\u001b[38;5;21;01m.\u001b[39;00m\u001b[38;5;21;01mpython\u001b[39;00m\u001b[38;5;21;01m.\u001b[39;00m\u001b[38;5;21;01mkeras\u001b[39;00m\u001b[38;5;21;01m.\u001b[39;00m\u001b[38;5;21;01mengine\u001b[39;00m \u001b[38;5;28;01mimport\u001b[39;00m functional\n",
      "File \u001b[0;32m~/.local/lib/python3.8/site-packages/tensorflow/python/keras/metrics.py:34\u001b[0m, in \u001b[0;36m<module>\u001b[0;34m\u001b[0m\n\u001b[1;32m     32\u001b[0m \u001b[38;5;28;01mfrom\u001b[39;00m \u001b[38;5;21;01mtensorflow\u001b[39;00m\u001b[38;5;21;01m.\u001b[39;00m\u001b[38;5;21;01mpython\u001b[39;00m\u001b[38;5;21;01m.\u001b[39;00m\u001b[38;5;21;01mframework\u001b[39;00m \u001b[38;5;28;01mimport\u001b[39;00m ops\n\u001b[1;32m     33\u001b[0m \u001b[38;5;28;01mfrom\u001b[39;00m \u001b[38;5;21;01mtensorflow\u001b[39;00m\u001b[38;5;21;01m.\u001b[39;00m\u001b[38;5;21;01mpython\u001b[39;00m\u001b[38;5;21;01m.\u001b[39;00m\u001b[38;5;21;01mframework\u001b[39;00m \u001b[38;5;28;01mimport\u001b[39;00m tensor_shape\n\u001b[0;32m---> 34\u001b[0m \u001b[38;5;28;01mfrom\u001b[39;00m \u001b[38;5;21;01mtensorflow\u001b[39;00m\u001b[38;5;21;01m.\u001b[39;00m\u001b[38;5;21;01mpython\u001b[39;00m\u001b[38;5;21;01m.\u001b[39;00m\u001b[38;5;21;01mkeras\u001b[39;00m \u001b[38;5;28;01mimport\u001b[39;00m activations\n\u001b[1;32m     35\u001b[0m \u001b[38;5;28;01mfrom\u001b[39;00m \u001b[38;5;21;01mtensorflow\u001b[39;00m\u001b[38;5;21;01m.\u001b[39;00m\u001b[38;5;21;01mpython\u001b[39;00m\u001b[38;5;21;01m.\u001b[39;00m\u001b[38;5;21;01mkeras\u001b[39;00m \u001b[38;5;28;01mimport\u001b[39;00m backend\n\u001b[1;32m     36\u001b[0m \u001b[38;5;28;01mfrom\u001b[39;00m \u001b[38;5;21;01mtensorflow\u001b[39;00m\u001b[38;5;21;01m.\u001b[39;00m\u001b[38;5;21;01mpython\u001b[39;00m\u001b[38;5;21;01m.\u001b[39;00m\u001b[38;5;21;01mkeras\u001b[39;00m\u001b[38;5;21;01m.\u001b[39;00m\u001b[38;5;21;01mengine\u001b[39;00m \u001b[38;5;28;01mimport\u001b[39;00m base_layer\n",
      "File \u001b[0;32m~/.local/lib/python3.8/site-packages/tensorflow/python/keras/activations.py:18\u001b[0m, in \u001b[0;36m<module>\u001b[0;34m\u001b[0m\n\u001b[1;32m     15\u001b[0m \u001b[38;5;124;03m\"\"\"Built-in activation functions.\"\"\"\u001b[39;00m\n\u001b[1;32m     17\u001b[0m \u001b[38;5;28;01mfrom\u001b[39;00m \u001b[38;5;21;01mtensorflow\u001b[39;00m\u001b[38;5;21;01m.\u001b[39;00m\u001b[38;5;21;01mpython\u001b[39;00m\u001b[38;5;21;01m.\u001b[39;00m\u001b[38;5;21;01mkeras\u001b[39;00m \u001b[38;5;28;01mimport\u001b[39;00m backend\n\u001b[0;32m---> 18\u001b[0m \u001b[38;5;28;01mfrom\u001b[39;00m \u001b[38;5;21;01mtensorflow\u001b[39;00m\u001b[38;5;21;01m.\u001b[39;00m\u001b[38;5;21;01mpython\u001b[39;00m\u001b[38;5;21;01m.\u001b[39;00m\u001b[38;5;21;01mkeras\u001b[39;00m\u001b[38;5;21;01m.\u001b[39;00m\u001b[38;5;21;01mlayers\u001b[39;00m \u001b[38;5;28;01mimport\u001b[39;00m advanced_activations\n\u001b[1;32m     19\u001b[0m \u001b[38;5;28;01mfrom\u001b[39;00m \u001b[38;5;21;01mtensorflow\u001b[39;00m\u001b[38;5;21;01m.\u001b[39;00m\u001b[38;5;21;01mpython\u001b[39;00m\u001b[38;5;21;01m.\u001b[39;00m\u001b[38;5;21;01mkeras\u001b[39;00m\u001b[38;5;21;01m.\u001b[39;00m\u001b[38;5;21;01mutils\u001b[39;00m\u001b[38;5;21;01m.\u001b[39;00m\u001b[38;5;21;01mgeneric_utils\u001b[39;00m \u001b[38;5;28;01mimport\u001b[39;00m deserialize_keras_object\n\u001b[1;32m     20\u001b[0m \u001b[38;5;28;01mfrom\u001b[39;00m \u001b[38;5;21;01mtensorflow\u001b[39;00m\u001b[38;5;21;01m.\u001b[39;00m\u001b[38;5;21;01mpython\u001b[39;00m\u001b[38;5;21;01m.\u001b[39;00m\u001b[38;5;21;01mkeras\u001b[39;00m\u001b[38;5;21;01m.\u001b[39;00m\u001b[38;5;21;01mutils\u001b[39;00m\u001b[38;5;21;01m.\u001b[39;00m\u001b[38;5;21;01mgeneric_utils\u001b[39;00m \u001b[38;5;28;01mimport\u001b[39;00m serialize_keras_object\n",
      "File \u001b[0;32m~/.local/lib/python3.8/site-packages/tensorflow/python/keras/layers/__init__.py:22\u001b[0m, in \u001b[0;36m<module>\u001b[0;34m\u001b[0m\n\u001b[1;32m     17\u001b[0m \u001b[38;5;28;01mfrom\u001b[39;00m \u001b[38;5;21;01mtensorflow\u001b[39;00m\u001b[38;5;21;01m.\u001b[39;00m\u001b[38;5;21;01mpython\u001b[39;00m \u001b[38;5;28;01mimport\u001b[39;00m tf2\n\u001b[1;32m     19\u001b[0m \u001b[38;5;66;03m# Generic layers.\u001b[39;00m\n\u001b[1;32m     20\u001b[0m \u001b[38;5;66;03m# pylint: disable=g-bad-import-order\u001b[39;00m\n\u001b[1;32m     21\u001b[0m \u001b[38;5;66;03m# pylint: disable=g-import-not-at-top\u001b[39;00m\n\u001b[0;32m---> 22\u001b[0m \u001b[38;5;28;01mfrom\u001b[39;00m \u001b[38;5;21;01mtensorflow\u001b[39;00m\u001b[38;5;21;01m.\u001b[39;00m\u001b[38;5;21;01mpython\u001b[39;00m\u001b[38;5;21;01m.\u001b[39;00m\u001b[38;5;21;01mkeras\u001b[39;00m\u001b[38;5;21;01m.\u001b[39;00m\u001b[38;5;21;01mengine\u001b[39;00m\u001b[38;5;21;01m.\u001b[39;00m\u001b[38;5;21;01minput_layer\u001b[39;00m \u001b[38;5;28;01mimport\u001b[39;00m Input\n\u001b[1;32m     23\u001b[0m \u001b[38;5;28;01mfrom\u001b[39;00m \u001b[38;5;21;01mtensorflow\u001b[39;00m\u001b[38;5;21;01m.\u001b[39;00m\u001b[38;5;21;01mpython\u001b[39;00m\u001b[38;5;21;01m.\u001b[39;00m\u001b[38;5;21;01mkeras\u001b[39;00m\u001b[38;5;21;01m.\u001b[39;00m\u001b[38;5;21;01mengine\u001b[39;00m\u001b[38;5;21;01m.\u001b[39;00m\u001b[38;5;21;01minput_layer\u001b[39;00m \u001b[38;5;28;01mimport\u001b[39;00m InputLayer\n\u001b[1;32m     24\u001b[0m \u001b[38;5;28;01mfrom\u001b[39;00m \u001b[38;5;21;01mtensorflow\u001b[39;00m\u001b[38;5;21;01m.\u001b[39;00m\u001b[38;5;21;01mpython\u001b[39;00m\u001b[38;5;21;01m.\u001b[39;00m\u001b[38;5;21;01mkeras\u001b[39;00m\u001b[38;5;21;01m.\u001b[39;00m\u001b[38;5;21;01mengine\u001b[39;00m\u001b[38;5;21;01m.\u001b[39;00m\u001b[38;5;21;01minput_spec\u001b[39;00m \u001b[38;5;28;01mimport\u001b[39;00m InputSpec\n",
      "File \u001b[0;32m~/.local/lib/python3.8/site-packages/tensorflow/python/keras/engine/input_layer.py:24\u001b[0m, in \u001b[0;36m<module>\u001b[0;34m\u001b[0m\n\u001b[1;32m     22\u001b[0m \u001b[38;5;28;01mfrom\u001b[39;00m \u001b[38;5;21;01mtensorflow\u001b[39;00m\u001b[38;5;21;01m.\u001b[39;00m\u001b[38;5;21;01mpython\u001b[39;00m\u001b[38;5;21;01m.\u001b[39;00m\u001b[38;5;21;01mkeras\u001b[39;00m \u001b[38;5;28;01mimport\u001b[39;00m backend\n\u001b[1;32m     23\u001b[0m \u001b[38;5;28;01mfrom\u001b[39;00m \u001b[38;5;21;01mtensorflow\u001b[39;00m\u001b[38;5;21;01m.\u001b[39;00m\u001b[38;5;21;01mpython\u001b[39;00m\u001b[38;5;21;01m.\u001b[39;00m\u001b[38;5;21;01mkeras\u001b[39;00m\u001b[38;5;21;01m.\u001b[39;00m\u001b[38;5;21;01mdistribute\u001b[39;00m \u001b[38;5;28;01mimport\u001b[39;00m distributed_training_utils\n\u001b[0;32m---> 24\u001b[0m \u001b[38;5;28;01mfrom\u001b[39;00m \u001b[38;5;21;01mtensorflow\u001b[39;00m\u001b[38;5;21;01m.\u001b[39;00m\u001b[38;5;21;01mpython\u001b[39;00m\u001b[38;5;21;01m.\u001b[39;00m\u001b[38;5;21;01mkeras\u001b[39;00m\u001b[38;5;21;01m.\u001b[39;00m\u001b[38;5;21;01mengine\u001b[39;00m \u001b[38;5;28;01mimport\u001b[39;00m base_layer\n\u001b[1;32m     25\u001b[0m \u001b[38;5;28;01mfrom\u001b[39;00m \u001b[38;5;21;01mtensorflow\u001b[39;00m\u001b[38;5;21;01m.\u001b[39;00m\u001b[38;5;21;01mpython\u001b[39;00m\u001b[38;5;21;01m.\u001b[39;00m\u001b[38;5;21;01mkeras\u001b[39;00m\u001b[38;5;21;01m.\u001b[39;00m\u001b[38;5;21;01mengine\u001b[39;00m \u001b[38;5;28;01mimport\u001b[39;00m keras_tensor\n\u001b[1;32m     26\u001b[0m \u001b[38;5;28;01mfrom\u001b[39;00m \u001b[38;5;21;01mtensorflow\u001b[39;00m\u001b[38;5;21;01m.\u001b[39;00m\u001b[38;5;21;01mpython\u001b[39;00m\u001b[38;5;21;01m.\u001b[39;00m\u001b[38;5;21;01mkeras\u001b[39;00m\u001b[38;5;21;01m.\u001b[39;00m\u001b[38;5;21;01mengine\u001b[39;00m \u001b[38;5;28;01mimport\u001b[39;00m node \u001b[38;5;28;01mas\u001b[39;00m node_module\n",
      "File \u001b[0;32m~/.local/lib/python3.8/site-packages/tensorflow/python/keras/engine/base_layer.py:53\u001b[0m, in \u001b[0;36m<module>\u001b[0;34m\u001b[0m\n\u001b[1;32m     51\u001b[0m \u001b[38;5;28;01mfrom\u001b[39;00m \u001b[38;5;21;01mtensorflow\u001b[39;00m\u001b[38;5;21;01m.\u001b[39;00m\u001b[38;5;21;01mpython\u001b[39;00m\u001b[38;5;21;01m.\u001b[39;00m\u001b[38;5;21;01mkeras\u001b[39;00m\u001b[38;5;21;01m.\u001b[39;00m\u001b[38;5;21;01mengine\u001b[39;00m \u001b[38;5;28;01mimport\u001b[39;00m node \u001b[38;5;28;01mas\u001b[39;00m node_module\n\u001b[1;32m     52\u001b[0m \u001b[38;5;28;01mfrom\u001b[39;00m \u001b[38;5;21;01mtensorflow\u001b[39;00m\u001b[38;5;21;01m.\u001b[39;00m\u001b[38;5;21;01mpython\u001b[39;00m\u001b[38;5;21;01m.\u001b[39;00m\u001b[38;5;21;01mkeras\u001b[39;00m\u001b[38;5;21;01m.\u001b[39;00m\u001b[38;5;21;01mmixed_precision\u001b[39;00m \u001b[38;5;28;01mimport\u001b[39;00m autocast_variable\n\u001b[0;32m---> 53\u001b[0m \u001b[38;5;28;01mfrom\u001b[39;00m \u001b[38;5;21;01mtensorflow\u001b[39;00m\u001b[38;5;21;01m.\u001b[39;00m\u001b[38;5;21;01mpython\u001b[39;00m\u001b[38;5;21;01m.\u001b[39;00m\u001b[38;5;21;01mkeras\u001b[39;00m\u001b[38;5;21;01m.\u001b[39;00m\u001b[38;5;21;01mmixed_precision\u001b[39;00m \u001b[38;5;28;01mimport\u001b[39;00m loss_scale_optimizer\n\u001b[1;32m     54\u001b[0m \u001b[38;5;28;01mfrom\u001b[39;00m \u001b[38;5;21;01mtensorflow\u001b[39;00m\u001b[38;5;21;01m.\u001b[39;00m\u001b[38;5;21;01mpython\u001b[39;00m\u001b[38;5;21;01m.\u001b[39;00m\u001b[38;5;21;01mkeras\u001b[39;00m\u001b[38;5;21;01m.\u001b[39;00m\u001b[38;5;21;01mmixed_precision\u001b[39;00m \u001b[38;5;28;01mimport\u001b[39;00m policy\n\u001b[1;32m     55\u001b[0m \u001b[38;5;28;01mfrom\u001b[39;00m \u001b[38;5;21;01mtensorflow\u001b[39;00m\u001b[38;5;21;01m.\u001b[39;00m\u001b[38;5;21;01mpython\u001b[39;00m\u001b[38;5;21;01m.\u001b[39;00m\u001b[38;5;21;01mkeras\u001b[39;00m\u001b[38;5;21;01m.\u001b[39;00m\u001b[38;5;21;01msaving\u001b[39;00m\u001b[38;5;21;01m.\u001b[39;00m\u001b[38;5;21;01msaved_model\u001b[39;00m \u001b[38;5;28;01mimport\u001b[39;00m layer_serialization\n",
      "File \u001b[0;32m~/.local/lib/python3.8/site-packages/tensorflow/python/keras/mixed_precision/loss_scale_optimizer.py:29\u001b[0m, in \u001b[0;36m<module>\u001b[0;34m\u001b[0m\n\u001b[1;32m     27\u001b[0m \u001b[38;5;28;01mfrom\u001b[39;00m \u001b[38;5;21;01mtensorflow\u001b[39;00m\u001b[38;5;21;01m.\u001b[39;00m\u001b[38;5;21;01mpython\u001b[39;00m\u001b[38;5;21;01m.\u001b[39;00m\u001b[38;5;21;01mframework\u001b[39;00m \u001b[38;5;28;01mimport\u001b[39;00m smart_cond\n\u001b[1;32m     28\u001b[0m \u001b[38;5;28;01mfrom\u001b[39;00m \u001b[38;5;21;01mtensorflow\u001b[39;00m\u001b[38;5;21;01m.\u001b[39;00m\u001b[38;5;21;01mpython\u001b[39;00m\u001b[38;5;21;01m.\u001b[39;00m\u001b[38;5;21;01mkeras\u001b[39;00m \u001b[38;5;28;01mimport\u001b[39;00m backend\n\u001b[0;32m---> 29\u001b[0m \u001b[38;5;28;01mfrom\u001b[39;00m \u001b[38;5;21;01mtensorflow\u001b[39;00m\u001b[38;5;21;01m.\u001b[39;00m\u001b[38;5;21;01mpython\u001b[39;00m\u001b[38;5;21;01m.\u001b[39;00m\u001b[38;5;21;01mkeras\u001b[39;00m \u001b[38;5;28;01mimport\u001b[39;00m optimizers\n\u001b[1;32m     30\u001b[0m \u001b[38;5;28;01mfrom\u001b[39;00m \u001b[38;5;21;01mtensorflow\u001b[39;00m\u001b[38;5;21;01m.\u001b[39;00m\u001b[38;5;21;01mpython\u001b[39;00m\u001b[38;5;21;01m.\u001b[39;00m\u001b[38;5;21;01mkeras\u001b[39;00m\u001b[38;5;21;01m.\u001b[39;00m\u001b[38;5;21;01mmixed_precision\u001b[39;00m \u001b[38;5;28;01mimport\u001b[39;00m loss_scale \u001b[38;5;28;01mas\u001b[39;00m keras_loss_scale_module\n\u001b[1;32m     31\u001b[0m \u001b[38;5;28;01mfrom\u001b[39;00m \u001b[38;5;21;01mtensorflow\u001b[39;00m\u001b[38;5;21;01m.\u001b[39;00m\u001b[38;5;21;01mpython\u001b[39;00m\u001b[38;5;21;01m.\u001b[39;00m\u001b[38;5;21;01mkeras\u001b[39;00m\u001b[38;5;21;01m.\u001b[39;00m\u001b[38;5;21;01moptimizer_v2\u001b[39;00m \u001b[38;5;28;01mimport\u001b[39;00m optimizer_v2\n",
      "File \u001b[0;32m~/.local/lib/python3.8/site-packages/tensorflow/python/keras/optimizers.py:24\u001b[0m, in \u001b[0;36m<module>\u001b[0;34m\u001b[0m\n\u001b[1;32m     22\u001b[0m \u001b[38;5;28;01mfrom\u001b[39;00m \u001b[38;5;21;01mtensorflow\u001b[39;00m\u001b[38;5;21;01m.\u001b[39;00m\u001b[38;5;21;01mpython\u001b[39;00m\u001b[38;5;21;01m.\u001b[39;00m\u001b[38;5;21;01mkeras\u001b[39;00m\u001b[38;5;21;01m.\u001b[39;00m\u001b[38;5;21;01moptimizer_v1\u001b[39;00m \u001b[38;5;28;01mimport\u001b[39;00m Optimizer\n\u001b[1;32m     23\u001b[0m \u001b[38;5;28;01mfrom\u001b[39;00m \u001b[38;5;21;01mtensorflow\u001b[39;00m\u001b[38;5;21;01m.\u001b[39;00m\u001b[38;5;21;01mpython\u001b[39;00m\u001b[38;5;21;01m.\u001b[39;00m\u001b[38;5;21;01mkeras\u001b[39;00m\u001b[38;5;21;01m.\u001b[39;00m\u001b[38;5;21;01moptimizer_v1\u001b[39;00m \u001b[38;5;28;01mimport\u001b[39;00m TFOptimizer\n\u001b[0;32m---> 24\u001b[0m \u001b[38;5;28;01mfrom\u001b[39;00m \u001b[38;5;21;01mtensorflow\u001b[39;00m\u001b[38;5;21;01m.\u001b[39;00m\u001b[38;5;21;01mpython\u001b[39;00m\u001b[38;5;21;01m.\u001b[39;00m\u001b[38;5;21;01mkeras\u001b[39;00m\u001b[38;5;21;01m.\u001b[39;00m\u001b[38;5;21;01moptimizer_v2\u001b[39;00m \u001b[38;5;28;01mimport\u001b[39;00m adadelta \u001b[38;5;28;01mas\u001b[39;00m adadelta_v2\n\u001b[1;32m     25\u001b[0m \u001b[38;5;28;01mfrom\u001b[39;00m \u001b[38;5;21;01mtensorflow\u001b[39;00m\u001b[38;5;21;01m.\u001b[39;00m\u001b[38;5;21;01mpython\u001b[39;00m\u001b[38;5;21;01m.\u001b[39;00m\u001b[38;5;21;01mkeras\u001b[39;00m\u001b[38;5;21;01m.\u001b[39;00m\u001b[38;5;21;01moptimizer_v2\u001b[39;00m \u001b[38;5;28;01mimport\u001b[39;00m adagrad \u001b[38;5;28;01mas\u001b[39;00m adagrad_v2\n\u001b[1;32m     26\u001b[0m \u001b[38;5;28;01mfrom\u001b[39;00m \u001b[38;5;21;01mtensorflow\u001b[39;00m\u001b[38;5;21;01m.\u001b[39;00m\u001b[38;5;21;01mpython\u001b[39;00m\u001b[38;5;21;01m.\u001b[39;00m\u001b[38;5;21;01mkeras\u001b[39;00m\u001b[38;5;21;01m.\u001b[39;00m\u001b[38;5;21;01moptimizer_v2\u001b[39;00m \u001b[38;5;28;01mimport\u001b[39;00m adam \u001b[38;5;28;01mas\u001b[39;00m adam_v2\n",
      "File \u001b[0;32m~/.local/lib/python3.8/site-packages/tensorflow/python/keras/optimizer_v2/adadelta.py:24\u001b[0m, in \u001b[0;36m<module>\u001b[0;34m\u001b[0m\n\u001b[1;32m     22\u001b[0m \u001b[38;5;28;01mfrom\u001b[39;00m \u001b[38;5;21;01mtensorflow\u001b[39;00m\u001b[38;5;21;01m.\u001b[39;00m\u001b[38;5;21;01mpython\u001b[39;00m\u001b[38;5;21;01m.\u001b[39;00m\u001b[38;5;21;01mkeras\u001b[39;00m\u001b[38;5;21;01m.\u001b[39;00m\u001b[38;5;21;01moptimizer_v2\u001b[39;00m \u001b[38;5;28;01mimport\u001b[39;00m optimizer_v2\n\u001b[1;32m     23\u001b[0m \u001b[38;5;28;01mfrom\u001b[39;00m \u001b[38;5;21;01mtensorflow\u001b[39;00m\u001b[38;5;21;01m.\u001b[39;00m\u001b[38;5;21;01mpython\u001b[39;00m\u001b[38;5;21;01m.\u001b[39;00m\u001b[38;5;21;01mops\u001b[39;00m \u001b[38;5;28;01mimport\u001b[39;00m array_ops\n\u001b[0;32m---> 24\u001b[0m \u001b[38;5;28;01mfrom\u001b[39;00m \u001b[38;5;21;01mtensorflow\u001b[39;00m\u001b[38;5;21;01m.\u001b[39;00m\u001b[38;5;21;01mpython\u001b[39;00m\u001b[38;5;21;01m.\u001b[39;00m\u001b[38;5;21;01mtraining\u001b[39;00m \u001b[38;5;28;01mimport\u001b[39;00m gen_training_ops\n\u001b[1;32m     25\u001b[0m \u001b[38;5;28;01mfrom\u001b[39;00m \u001b[38;5;21;01mtensorflow\u001b[39;00m\u001b[38;5;21;01m.\u001b[39;00m\u001b[38;5;21;01mpython\u001b[39;00m\u001b[38;5;21;01m.\u001b[39;00m\u001b[38;5;21;01mutil\u001b[39;00m\u001b[38;5;21;01m.\u001b[39;00m\u001b[38;5;21;01mtf_export\u001b[39;00m \u001b[38;5;28;01mimport\u001b[39;00m keras_export\n\u001b[1;32m     28\u001b[0m \u001b[38;5;129m@keras_export\u001b[39m(\u001b[38;5;124m'\u001b[39m\u001b[38;5;124mkeras.optimizers.Adadelta\u001b[39m\u001b[38;5;124m'\u001b[39m)\n\u001b[1;32m     29\u001b[0m \u001b[38;5;28;01mclass\u001b[39;00m \u001b[38;5;21;01mAdadelta\u001b[39;00m(optimizer_v2\u001b[38;5;241m.\u001b[39mOptimizerV2):\n",
      "File \u001b[0;32m~/.local/lib/python3.8/site-packages/tensorflow/python/training/gen_training_ops.py:24\u001b[0m, in \u001b[0;36m<module>\u001b[0;34m\u001b[0m\n\u001b[1;32m     16\u001b[0m \u001b[38;5;124;03m\"\"\"Python wrappers for training ops.\"\"\"\u001b[39;00m\n\u001b[1;32m     17\u001b[0m \u001b[38;5;66;03m# NOTE(allenl): The generated op wrappers for training ops were originally in\u001b[39;00m\n\u001b[1;32m     18\u001b[0m \u001b[38;5;66;03m# training/gen_training_ops.py. They moved to ops/gen_training_ops.py when\u001b[39;00m\n\u001b[1;32m     19\u001b[0m \u001b[38;5;66;03m# training/ became a module, and this is an alias to avoid breaking existing\u001b[39;00m\n\u001b[0;32m   (...)\u001b[0m\n\u001b[1;32m     22\u001b[0m \u001b[38;5;66;03m# go/tf-wildcard-import\u001b[39;00m\n\u001b[1;32m     23\u001b[0m \u001b[38;5;66;03m# pylint: disable=wildcard-import\u001b[39;00m\n\u001b[0;32m---> 24\u001b[0m \u001b[38;5;28;01mfrom\u001b[39;00m \u001b[38;5;21;01mtensorflow\u001b[39;00m\u001b[38;5;21;01m.\u001b[39;00m\u001b[38;5;21;01mpython\u001b[39;00m\u001b[38;5;21;01m.\u001b[39;00m\u001b[38;5;21;01mops\u001b[39;00m\u001b[38;5;21;01m.\u001b[39;00m\u001b[38;5;21;01mgen_training_ops\u001b[39;00m \u001b[38;5;28;01mimport\u001b[39;00m \u001b[38;5;241m*\u001b[39m\n",
      "File \u001b[0;32m~/.local/lib/python3.8/site-packages/tensorflow/python/ops/gen_training_ops.py:652\u001b[0m, in \u001b[0;36m<module>\u001b[0;34m\u001b[0m\n\u001b[1;32m    649\u001b[0m   _result, \u001b[38;5;241m=\u001b[39m _result\n\u001b[1;32m    650\u001b[0m   \u001b[38;5;28;01mreturn\u001b[39;00m _result\n\u001b[0;32m--> 652\u001b[0m ApplyFtrlV2 \u001b[38;5;241m=\u001b[39m \u001b[43mtf_export\u001b[49m\u001b[43m(\u001b[49m\u001b[38;5;124;43m\"\u001b[39;49m\u001b[38;5;124;43mraw_ops.ApplyFtrlV2\u001b[39;49m\u001b[38;5;124;43m\"\u001b[39;49m\u001b[43m)\u001b[49m\u001b[43m(\u001b[49m\u001b[43m_ops\u001b[49m\u001b[38;5;241;43m.\u001b[39;49m\u001b[43mto_raw_op\u001b[49m\u001b[43m(\u001b[49m\u001b[43mapply_ftrl_v2\u001b[49m\u001b[43m)\u001b[49m\u001b[43m)\u001b[49m\n\u001b[1;32m    655\u001b[0m \u001b[38;5;28;01mdef\u001b[39;00m \u001b[38;5;21mapply_ftrl_v2_eager_fallback\u001b[39m(var, accum, linear, grad, lr, l1, l2, l2_shrinkage, lr_power, use_locking, multiply_linear_by_lr, name, ctx):\n\u001b[1;32m    656\u001b[0m   \u001b[38;5;28;01mraise\u001b[39;00m \u001b[38;5;167;01mRuntimeError\u001b[39;00m(\u001b[38;5;124m\"\u001b[39m\u001b[38;5;124mapply_ftrl_v2 op does not support eager execution. Arg \u001b[39m\u001b[38;5;124m'\u001b[39m\u001b[38;5;124mout\u001b[39m\u001b[38;5;124m'\u001b[39m\u001b[38;5;124m is a ref.\u001b[39m\u001b[38;5;124m\"\u001b[39m)\n",
      "File \u001b[0;32m~/.local/lib/python3.8/site-packages/tensorflow/python/util/tf_export.py:330\u001b[0m, in \u001b[0;36mapi_export.__call__\u001b[0;34m(self, func)\u001b[0m\n\u001b[1;32m    328\u001b[0m api_names_attr_v1 \u001b[38;5;241m=\u001b[39m API_ATTRS_V1[\u001b[38;5;28mself\u001b[39m\u001b[38;5;241m.\u001b[39m_api_name]\u001b[38;5;241m.\u001b[39mnames\n\u001b[1;32m    329\u001b[0m \u001b[38;5;66;03m# Undecorate overridden names\u001b[39;00m\n\u001b[0;32m--> 330\u001b[0m \u001b[38;5;28;01mfor\u001b[39;00m f \u001b[38;5;129;01min\u001b[39;00m \u001b[38;5;28;43mself\u001b[39;49m\u001b[38;5;241;43m.\u001b[39;49m\u001b[43m_overrides\u001b[49m:\n\u001b[1;32m    331\u001b[0m   _, undecorated_f \u001b[38;5;241m=\u001b[39m tf_decorator\u001b[38;5;241m.\u001b[39munwrap(f)\n\u001b[1;32m    332\u001b[0m   \u001b[38;5;28mdelattr\u001b[39m(undecorated_f, api_names_attr)\n",
      "\u001b[0;31mKeyboardInterrupt\u001b[0m: "
     ]
    }
   ],
   "source": [
    "import tensorflow as tf\n",
    "from tensorflow.keras import datasets, layers, models\n",
    "from src.LoadDogs import create_training_data\n",
    "import matplotlib.pyplot as plt\n",
    "import numpy as np"
   ]
  },
  {
   "cell_type": "markdown",
   "id": "ae680c1a-23f0-4ca0-84de-aeb0b6486a48",
   "metadata": {},
   "source": [
    "# Fit by some models, input data = 56*56"
   ]
  },
  {
   "cell_type": "code",
   "execution_count": null,
   "id": "543aead4-c0e4-4bc3-9f7d-2a5ccadaa5e0",
   "metadata": {},
   "outputs": [],
   "source": [
    "(train_images, train_labels), (test_images, test_labels) = create_training_data(IMG_SIZE = 56)"
   ]
  },
  {
   "cell_type": "code",
   "execution_count": null,
   "id": "410df869-c58b-4e35-910f-a341cea633e8",
   "metadata": {},
   "outputs": [],
   "source": [
    "train_images.shape"
   ]
  },
  {
   "cell_type": "markdown",
   "id": "307c4935-334f-44c9-bdb7-e61c91de4ea2",
   "metadata": {},
   "source": [
    "## Fit of model1"
   ]
  },
  {
   "cell_type": "code",
   "execution_count": null,
   "id": "d159de18-a7c3-44b7-869f-6579fae89526",
   "metadata": {},
   "outputs": [],
   "source": [
    "model = models.Sequential()\n",
    "model.add(layers.Conv2D(32, (5, 5), activation='relu', input_shape=(56, 56, 3)))\n",
    "model.add(layers.MaxPooling2D((2, 2)))\n",
    "model.add(layers.Conv2D(64, (9, 9), activation='relu'))\n",
    "model.add(layers.MaxPooling2D((2, 2)))\n",
    "model.add(layers.Conv2D(64, (9, 9), activation='relu'))\n",
    "model.add(layers.Flatten())\n",
    "model.add(layers.Dense(64, activation='relu'))\n",
    "model.add(layers.Dense(2,activation='softmax'))"
   ]
  },
  {
   "cell_type": "code",
   "execution_count": null,
   "id": "cb90166b-e678-4943-aa8c-8e9b25748c55",
   "metadata": {},
   "outputs": [],
   "source": [
    "model.summary()"
   ]
  },
  {
   "cell_type": "code",
   "execution_count": null,
   "id": "fd8e933d-d69f-45e3-858b-8e3f14fc8271",
   "metadata": {},
   "outputs": [],
   "source": [
    "model.compile(optimizer='adam',\n",
    "              loss='sparse_categorical_crossentropy',\n",
    "              metrics=['accuracy'])\n",
    "\n",
    "model.fit(train_images, train_labels, epochs=5)"
   ]
  },
  {
   "cell_type": "code",
   "execution_count": null,
   "id": "ed1982d0-c3a2-4495-a3bb-d694de7d6054",
   "metadata": {},
   "outputs": [],
   "source": [
    "test_loss, test_acc = model.evaluate(test_images, test_labels)"
   ]
  },
  {
   "cell_type": "code",
   "execution_count": null,
   "id": "a0b98367-b6d7-41f0-b755-369bc773d8a5",
   "metadata": {},
   "outputs": [],
   "source": [
    "model2 = models.Sequential()\n",
    "model2.add(layers.Conv2D(32, (5, 5), activation='relu', input_shape=(56, 56, 3)))\n",
    "model2.add(layers.Conv2D(64, (5, 5), activation='relu'))\n",
    "model2.add(layers.MaxPooling2D((2, 2)))\n",
    "model2.add(layers.Conv2D(64, (9, 9), activation='relu'))\n",
    "model2.add(layers.Conv2D(64, (5, 5), activation='relu'))\n",
    "model2.add(layers.Flatten())\n",
    "model2.add(layers.Dense(64, activation='relu'))\n",
    "model2.add(layers.Dense(2,activation='softmax'))\n",
    "\n",
    "model2.summary()"
   ]
  },
  {
   "cell_type": "code",
   "execution_count": null,
   "id": "67376d98-4efb-4bd9-9449-b1b0b293cfda",
   "metadata": {},
   "outputs": [],
   "source": [
    "model2.compile(optimizer='adam',\n",
    "              loss='sparse_categorical_crossentropy',\n",
    "              metrics=['accuracy'])\n",
    "\n",
    "model2.fit(train_images, train_labels, epochs=5)"
   ]
  },
  {
   "cell_type": "code",
   "execution_count": null,
   "id": "7328d960-2b0c-4448-9962-22e6b7eba70f",
   "metadata": {},
   "outputs": [],
   "source": [
    "model2.fit(train_images, train_labels, epochs=5)"
   ]
  },
  {
   "cell_type": "code",
   "execution_count": null,
   "id": "66d8c875-6f3a-4b9a-b6af-e81c067ae9ec",
   "metadata": {},
   "outputs": [],
   "source": [
    "test_loss, test_acc = model2.evaluate(test_images, test_labels)"
   ]
  },
  {
   "cell_type": "markdown",
   "id": "31caa053-8dc9-4356-a388-7e42287b43fc",
   "metadata": {},
   "source": [
    "## Fit of model3,  accuracy:0.82\n",
    "(96% at training data, 82% at test data)  \n",
    "~~this model think almost all cats are dogs  ~~  \n",
    "\n",
    "above statement was wrong, the problem occured because of mistake of plot program"
   ]
  },
  {
   "cell_type": "code",
   "execution_count": null,
   "id": "3f38b19b-cc73-4805-b0e1-374bf2ad8ed3",
   "metadata": {},
   "outputs": [],
   "source": [
    "model3 = models.Sequential()\n",
    "model3.add(layers.Conv2D(32, (3, 3), activation='relu', input_shape=(56, 56, 3)))\n",
    "model3.add(layers.Conv2D(64, (5, 5), activation='relu'))\n",
    "model3.add(layers.MaxPooling2D((2, 2)))\n",
    "model3.add(layers.Dropout(0.1))\n",
    "model3.add(layers.Conv2D(64, (5, 5), activation='relu'))\n",
    "model3.add(layers.Conv2D(64, (5, 5), activation='relu'))\n",
    "model3.add(layers.MaxPooling2D((2, 2)))\n",
    "\n",
    "\n",
    "model3.add(layers.Flatten())\n",
    "model3.add(layers.Dense(64, activation='relu'))\n",
    "model3.add(layers.Dense(2,activation='softmax'))\n",
    "\n",
    "model3.summary()"
   ]
  },
  {
   "cell_type": "code",
   "execution_count": null,
   "id": "a7df11ab-9a64-40a8-8a5f-f3a73dfd6a4a",
   "metadata": {},
   "outputs": [],
   "source": [
    "model3.compile(optimizer='adam',\n",
    "              loss='sparse_categorical_crossentropy',\n",
    "              metrics=['accuracy'])\n",
    "\n",
    "model3.fit(train_images, train_labels, epochs=30)"
   ]
  },
  {
   "cell_type": "code",
   "execution_count": null,
   "id": "d253d727-13cf-483a-af4f-1c089d1c8578",
   "metadata": {},
   "outputs": [],
   "source": [
    "test_loss, test_acc = model3.evaluate(test_images, test_labels)"
   ]
  },
  {
   "cell_type": "code",
   "execution_count": null,
   "id": "91a28963-e103-4a24-a04d-733d1a16bbee",
   "metadata": {},
   "outputs": [],
   "source": [
    "model3.fit(train_images, train_labels, epochs=5)\n",
    "test_loss, test_acc = model3.evaluate(test_images, test_labels)"
   ]
  },
  {
   "cell_type": "code",
   "execution_count": null,
   "id": "0f97a887-31e1-4fcb-93ad-cfe310338022",
   "metadata": {},
   "outputs": [],
   "source": [
    "model3.fit(train_images, train_labels, epochs=5)\n",
    "test_loss, test_acc = model3.evaluate(test_images, test_labels)"
   ]
  },
  {
   "cell_type": "markdown",
   "id": "59f69126-69d6-40e3-8c63-cda9bb960e4a",
   "metadata": {},
   "source": [
    "## Fit of model 4"
   ]
  },
  {
   "cell_type": "code",
   "execution_count": null,
   "id": "05338bfe-8fda-4a5b-a8d4-b09802645b38",
   "metadata": {},
   "outputs": [],
   "source": [
    "model4 = models.Sequential()\n",
    "model4.add(layers.Conv2D(32, (5, 5), activation='relu', input_shape=(56, 56, 3)))\n",
    "model4.add(layers.Conv2D(64, (5, 5), activation='relu'))\n",
    "model4.add(layers.MaxPooling2D((2, 2)))\n",
    "model4.add(layers.Dropout(0.1))\n",
    "model4.add(layers.Conv2D(64, (9, 9), activation='relu'))\n",
    "model4.add(layers.MaxPooling2D((2, 2)))\n",
    "model4.add(layers.Flatten())\n",
    "model4.add(layers.Dense(64, activation='relu'))\n",
    "model4.add(layers.Dense(2,activation='softmax'))\n",
    "\n",
    "model4.summary()"
   ]
  },
  {
   "cell_type": "code",
   "execution_count": null,
   "id": "24e436b3-2542-45ae-990f-aed46cd9b4d1",
   "metadata": {},
   "outputs": [],
   "source": [
    "model4.compile(optimizer='adam',\n",
    "              loss='sparse_categorical_crossentropy',\n",
    "              metrics=['accuracy'])\n",
    "\n",
    "model4.fit(train_images, train_labels, epochs=5)"
   ]
  },
  {
   "cell_type": "markdown",
   "id": "9c8dde72-5b03-41b0-b21b-e80c8f7969ca",
   "metadata": {},
   "source": [
    "## Fit of model5"
   ]
  },
  {
   "cell_type": "code",
   "execution_count": null,
   "id": "4efd51d5-b486-4074-9418-6726ede88303",
   "metadata": {},
   "outputs": [],
   "source": [
    "model5 = models.Sequential()\n",
    "model5.add(layers.Conv2D(64, (3, 3), activation='relu', input_shape=(56, 56, 3)))\n",
    "model5.add(layers.Conv2D(128, (5, 5), activation='relu'))\n",
    "model5.add(layers.MaxPooling2D((2, 2)))\n",
    "model5.add(layers.Dropout(0.1))\n",
    "model5.add(layers.Conv2D(128, (5, 5), activation='relu'))\n",
    "model5.add(layers.Conv2D(128, (5, 5), activation='relu'))\n",
    "model5.add(layers.Dropout(0.1))\n",
    "model5.add(layers.MaxPooling2D((2, 2)))\n",
    "model5.add(layers.Flatten())\n",
    "model5.add(layers.Dense(128, activation='relu'))\n",
    "model5.add(layers.Dense(2,activation='softmax'))\n",
    "\n",
    "model5.summary()"
   ]
  },
  {
   "cell_type": "code",
   "execution_count": null,
   "id": "51504563-13f2-4fa0-85fa-b6382456f692",
   "metadata": {},
   "outputs": [],
   "source": [
    "model5.compile(optimizer='adam',\n",
    "              loss='sparse_categorical_crossentropy',\n",
    "              metrics=['accuracy'])\n",
    "\n",
    "model5.fit(train_images, train_labels, epochs=5)"
   ]
  },
  {
   "cell_type": "code",
   "execution_count": null,
   "id": "26d909e9-4b13-408e-80e2-10c8d8d0c72b",
   "metadata": {},
   "outputs": [],
   "source": [
    "test_loss, test_acc = model5.evaluate(test_images, test_labels)"
   ]
  },
  {
   "cell_type": "markdown",
   "id": "b3e62084-554c-4c6d-8272-cea5d926120a",
   "metadata": {},
   "source": [
    "## Fit of model6"
   ]
  },
  {
   "cell_type": "code",
   "execution_count": null,
   "id": "06ac312d-42a2-48e0-9bc8-5d579fba53b7",
   "metadata": {},
   "outputs": [],
   "source": [
    "model6 = models.Sequential()\n",
    "model6.add(layers.Conv2D(32, (3, 3), activation='relu', input_shape=(56, 56, 3)))\n",
    "model6.add(layers.Conv2D(32, (3, 3), activation='relu'))\n",
    "model6.add(layers.MaxPooling2D((2, 2)))\n",
    "model6.add(layers.Conv2D(32, (3, 3), activation='relu'))\n",
    "model6.add(layers.Conv2D(32, (3, 3), activation='relu'))\n",
    "model6.add(layers.MaxPooling2D((2, 2)))\n",
    "model6.add(layers.Conv2D(32, (5, 5), activation='relu'))\n",
    "model6.add(layers.Conv2D(32, (5, 5), activation='relu'))\n",
    "model6.add(layers.Flatten())\n",
    "model6.add(layers.Dense(128, activation='relu'))\n",
    "model6.add(layers.Dense(2,activation='softmax'))\n",
    "\n",
    "model6.summary()"
   ]
  },
  {
   "cell_type": "code",
   "execution_count": null,
   "id": "07284c45-5dd2-42af-ad5c-99fe0f87ee42",
   "metadata": {},
   "outputs": [],
   "source": [
    "model6.compile(optimizer='adam',\n",
    "              loss='sparse_categorical_crossentropy',\n",
    "              metrics=['accuracy'])\n",
    "\n",
    "model6.fit(train_images, train_labels, epochs=5)"
   ]
  },
  {
   "cell_type": "code",
   "execution_count": null,
   "id": "597ce3d2-6475-4c68-bcdf-f6318fa52d2d",
   "metadata": {},
   "outputs": [],
   "source": [
    "test_loss, test_acc = model6.evaluate(test_images, test_labels)"
   ]
  },
  {
   "cell_type": "markdown",
   "id": "9a9ae1e2-84af-42bd-a02a-0a6cbec7a250",
   "metadata": {},
   "source": [
    "## Fit of model10\n",
    "minor change of model 3\n",
    "~~mistakenly used this code while the name remaining 'model3', but it should be rewritten to 'model10'"
   ]
  },
  {
   "cell_type": "code",
   "execution_count": null,
   "id": "6178f4bc-10ce-4f5f-8102-8abbed836075",
   "metadata": {},
   "outputs": [],
   "source": [
    "model10 = models.Sequential()\n",
    "model10.add(layers.ZeroPadding2D(padding=(1, 1), input_shape=(56, 56, 3)))\n",
    "model10.add(layers.Conv2D(16, (3, 3), activation='relu'))\n",
    "model10.add(layers.ZeroPadding2D(padding=(2, 2)))\n",
    "model10.add(layers.Conv2D(32, (5, 5), activation='relu'))\n",
    "model10.add(layers.MaxPooling2D((2, 2)))\n",
    "\n",
    "model10.add(layers.Dropout(0.1))\n",
    "model10.add(layers.ZeroPadding2D(padding=(2, 2)))\n",
    "model10.add(layers.Conv2D(64, (5, 5), activation='relu'))\n",
    "\n",
    "model10.add(layers.Dropout(0.1))\n",
    "model10.add(layers.ZeroPadding2D(padding=(2, 2)))\n",
    "model10.add(layers.Conv2D(64, (5, 5), activation='relu'))\n",
    "model10.add(layers.MaxPooling2D((2, 2)))\n",
    "\n",
    "\n",
    "model10.add(layers.Flatten())\n",
    "model10.add(layers.Dense(64, activation='relu'))\n",
    "model10.add(layers.Dense(2,activation='softmax'))\n",
    "\n",
    "model10.summary()"
   ]
  },
  {
   "cell_type": "code",
   "execution_count": null,
   "id": "7d38f03c-380c-44d6-938c-a16090a442cc",
   "metadata": {},
   "outputs": [],
   "source": [
    "model10.compile(optimizer='adam',\n",
    "              loss='sparse_categorical_crossentropy',\n",
    "              metrics=['accuracy'])\n",
    "\n",
    "model10.fit(train_images, train_labels, epochs=5)"
   ]
  },
  {
   "cell_type": "code",
   "execution_count": null,
   "id": "20dd3948-0794-410b-9b12-46b35184d36e",
   "metadata": {},
   "outputs": [],
   "source": [
    "model10.fit(train_images, train_labels, epochs=5)"
   ]
  },
  {
   "cell_type": "code",
   "execution_count": null,
   "id": "9c5c8f9d-9d09-458a-9d58-5ab83b0ff545",
   "metadata": {},
   "outputs": [],
   "source": [
    "model10.fit(train_images, train_labels, epochs=5)"
   ]
  },
  {
   "cell_type": "code",
   "execution_count": null,
   "id": "f3f4fc9e-2153-4298-8d7d-262372169e41",
   "metadata": {},
   "outputs": [],
   "source": [
    "test_loss, test_acc = model10.evaluate(test_images, test_labels)"
   ]
  },
  {
   "cell_type": "markdown",
   "id": "de1c64f8-0609-4c40-9603-72510de1bfa0",
   "metadata": {},
   "source": [
    "## Fit of model12\n",
    "minor change of model 10"
   ]
  },
  {
   "cell_type": "code",
   "execution_count": null,
   "id": "434d0e84-8026-4334-aed8-a6b2af08cfe9",
   "metadata": {},
   "outputs": [],
   "source": [
    "model12 = models.Sequential()\n",
    "model12.add(layers.ZeroPadding2D(padding=(1, 1), input_shape=(56, 56, 3)))\n",
    "model12.add(layers.Conv2D(16, (3, 3), activation='relu'))\n",
    "model12.add(layers.ZeroPadding2D(padding=(2, 2)))\n",
    "model12.add(layers.Conv2D(32, (5, 5), activation='relu'))\n",
    "model12.add(layers.MaxPooling2D((2, 2)))\n",
    "\n",
    "model12.add(layers.Dropout(0.1))\n",
    "model12.add(layers.ZeroPadding2D(padding=(2, 2)))\n",
    "model12.add(layers.Conv2D(64, (5, 5), activation='relu'))\n",
    "\n",
    "model12.add(layers.Dropout(0.1))\n",
    "model12.add(layers.ZeroPadding2D(padding=(2, 2)))\n",
    "model12.add(layers.Conv2D(64, (5, 5), activation='relu'))\n",
    "model12.add(layers.MaxPooling2D((2, 2)))\n",
    "\n",
    "model12.add(layers.ZeroPadding2D(padding=(2, 2)))\n",
    "model12.add(layers.Conv2D(64, (5, 5), activation='relu'))\n",
    "model12.add(layers.ZeroPadding2D(padding=(2, 2)))\n",
    "model12.add(layers.Conv2D(64, (5, 5), activation='relu'))\n",
    "\n",
    "\n",
    "model12.add(layers.Flatten())\n",
    "model12.add(layers.Dense(64, activation='relu'))\n",
    "model12.add(layers.Dense(2,activation='softmax'))\n",
    "\n",
    "model12.summary()"
   ]
  },
  {
   "cell_type": "code",
   "execution_count": null,
   "id": "e14d67d4-53d8-4b07-8216-76d2f1d88413",
   "metadata": {},
   "outputs": [],
   "source": [
    "model12.compile(optimizer='adam',\n",
    "              loss='sparse_categorical_crossentropy',\n",
    "              metrics=['accuracy'])\n",
    "\n",
    "model12.fit(train_images, train_labels, epochs=5)"
   ]
  },
  {
   "cell_type": "code",
   "execution_count": null,
   "id": "461518ad-3443-4f07-8fb9-1b9b65d1ac07",
   "metadata": {},
   "outputs": [],
   "source": [
    "model12.fit(train_images, train_labels, epochs=5)"
   ]
  },
  {
   "cell_type": "code",
   "execution_count": null,
   "id": "a6b2d511-e887-41ae-9343-356418dbe76d",
   "metadata": {},
   "outputs": [],
   "source": [
    "test_loss, test_acc = model12.evaluate(test_images, test_labels)"
   ]
  },
  {
   "cell_type": "code",
   "execution_count": null,
   "id": "3d85db81-0d77-43ac-8dc5-54a751df1a84",
   "metadata": {},
   "outputs": [],
   "source": [
    "model12.fit(train_images, train_labels, epochs=5)"
   ]
  },
  {
   "cell_type": "code",
   "execution_count": null,
   "id": "4ab9543c-8857-43e2-8c34-830ed72e2007",
   "metadata": {},
   "outputs": [],
   "source": [
    "test_loss, test_acc = model12.evaluate(test_images, test_labels)"
   ]
  },
  {
   "cell_type": "markdown",
   "id": "a2c795f8-d1b8-4510-bd99-a8124f4580f3",
   "metadata": {},
   "source": [
    "# input data = 56*56, preprocess"
   ]
  },
  {
   "cell_type": "markdown",
   "id": "ce85149e-ece7-4db5-bdd7-62a5c1871822",
   "metadata": {},
   "source": [
    "## model13"
   ]
  },
  {
   "cell_type": "code",
   "execution_count": null,
   "id": "8dddd0f2-41a1-47a9-a159-7f3adf53abc6",
   "metadata": {},
   "outputs": [],
   "source": [
    "rescale = tf.keras.Sequential([\n",
    "    layers.Rescaling(1./255)\n",
    "])"
   ]
  },
  {
   "cell_type": "code",
   "execution_count": null,
   "id": "6e6eb060-3cdf-41cb-b056-932ee40119d6",
   "metadata": {},
   "outputs": [],
   "source": [
    "train_images_p = rescale(train_images)"
   ]
  },
  {
   "cell_type": "code",
   "execution_count": null,
   "id": "92835021-926f-4824-a9f8-8c3b07b51228",
   "metadata": {},
   "outputs": [],
   "source": [
    "test_images_p = rescale(test_images)"
   ]
  },
  {
   "cell_type": "code",
   "execution_count": null,
   "id": "ac23f2e3-7576-45a9-b585-1c8541a4bd69",
   "metadata": {},
   "outputs": [],
   "source": [
    "model13 = models.Sequential()\n",
    "model13.add(layers.Conv2D(32, (3, 3), activation='relu', input_shape=(56, 56, 3)))\n",
    "model13.add(layers.Dropout(0.1))\n",
    "model13.add(layers.Conv2D(64, (5, 5), activation='relu'))\n",
    "model13.add(layers.MaxPooling2D((2, 2)))\n",
    "model13.add(layers.Dropout(0.1))\n",
    "model13.add(layers.Conv2D(64, (5, 5), activation='relu'))\n",
    "model13.add(layers.Dropout(0.1))\n",
    "model13.add(layers.Conv2D(64, (5, 5), activation='relu'))\n",
    "model13.add(layers.MaxPooling2D((2, 2)))\n",
    "\n",
    "\n",
    "model13.add(layers.Flatten())\n",
    "model13.add(layers.Dense(64, activation='relu'))\n",
    "model13.add(layers.Dense(2,activation='softmax'))\n",
    "\n",
    "model13.summary()"
   ]
  },
  {
   "cell_type": "code",
   "execution_count": null,
   "id": "c922eaab-952b-4540-8ee8-50eda72143f4",
   "metadata": {},
   "outputs": [],
   "source": [
    "model13.compile(optimizer='adam',\n",
    "              loss='sparse_categorical_crossentropy',\n",
    "              metrics=['accuracy'])\n",
    "\n",
    "model13.fit(train_images_p, train_labels, epochs=5)"
   ]
  },
  {
   "cell_type": "code",
   "execution_count": null,
   "id": "ddc6e57d-b76e-4c56-afa0-6195832df589",
   "metadata": {},
   "outputs": [],
   "source": [
    "test_loss, test_acc = model13.evaluate(test_images_p, test_labels)"
   ]
  },
  {
   "cell_type": "code",
   "execution_count": null,
   "id": "cba054e2-b43d-48a0-92e4-9a011e256a5f",
   "metadata": {},
   "outputs": [],
   "source": [
    "model13.fit(train_images_p, train_labels, epochs=5)"
   ]
  },
  {
   "cell_type": "code",
   "execution_count": null,
   "id": "d0f90351-3ade-4ed3-a3a9-e01dbf41467b",
   "metadata": {},
   "outputs": [],
   "source": [
    "test_loss, test_acc = model13.evaluate(test_images_p, test_labels)"
   ]
  },
  {
   "cell_type": "code",
   "execution_count": null,
   "id": "50566efb-421a-49f7-a1b9-44b1b4f49f98",
   "metadata": {},
   "outputs": [],
   "source": [
    "model13.fit(train_images_p, train_labels, epochs=5)"
   ]
  },
  {
   "cell_type": "code",
   "execution_count": null,
   "id": "04935736-6fef-458d-85c5-d4e1e146264a",
   "metadata": {},
   "outputs": [],
   "source": [
    "test_loss, test_acc = model13.evaluate(test_images_p, test_labels)"
   ]
  },
  {
   "cell_type": "markdown",
   "id": "2723cb3f-2f9f-49fd-b033-0b5245b50f3f",
   "metadata": {},
   "source": [
    "# input data = 80*80"
   ]
  },
  {
   "cell_type": "code",
   "execution_count": null,
   "id": "8139ef8a-85fe-4401-af25-c206b726bafd",
   "metadata": {},
   "outputs": [],
   "source": [
    "(train_images80, train_labels80), (test_images80, test_labels80) = create_training_data(IMG_SIZE = 80)"
   ]
  },
  {
   "cell_type": "markdown",
   "id": "b8df6e7e-1cc9-41d6-8bc2-9be1b349e89e",
   "metadata": {},
   "source": [
    "## Fit of model 7\n",
    "cannot learn till 9 epoch, 1.5 hour  \n",
    "stopped learning at that point"
   ]
  },
  {
   "cell_type": "code",
   "execution_count": null,
   "id": "0e4a0cc7-6c9a-40fa-aa30-44dc3c9072e2",
   "metadata": {},
   "outputs": [],
   "source": [
    "model7 = models.Sequential()\n",
    "model7.add(layers.Conv2D(32, (3, 3), activation='relu', input_shape=(80, 80, 3)))\n",
    "model7.add(layers.Conv2D(64, (5, 5), activation='relu'))\n",
    "model7.add(layers.MaxPooling2D((2, 2)))\n",
    "model7.add(layers.Dropout(0.1))\n",
    "model7.add(layers.Conv2D(128, (5, 5), activation='relu'))\n",
    "model7.add(layers.Conv2D(128, (7, 7), activation='relu'))\n",
    "model7.add(layers.MaxPooling2D((2, 2)))\n",
    "model7.add(layers.Conv2D(128, (7, 7), activation='relu'))\n",
    "\n",
    "\n",
    "model7.add(layers.Flatten())\n",
    "model7.add(layers.Dense(64, activation='relu'))\n",
    "model7.add(layers.Dense(2,activation='softmax'))\n",
    "\n",
    "model7.summary()"
   ]
  },
  {
   "cell_type": "code",
   "execution_count": null,
   "id": "a8d2c264-9637-47f9-9f2f-838cb29938aa",
   "metadata": {},
   "outputs": [],
   "source": [
    "model7.compile(optimizer='adam',\n",
    "              loss='sparse_categorical_crossentropy',\n",
    "              metrics=['accuracy'])\n",
    "\n",
    "model7.fit(train_images80, train_labels80, epochs=20)"
   ]
  },
  {
   "cell_type": "code",
   "execution_count": null,
   "id": "0f68d255-8506-4307-8caa-8eb384575a83",
   "metadata": {},
   "outputs": [],
   "source": [
    "test_loss, test_acc = model3.evaluate(test_images, test_labels)"
   ]
  },
  {
   "cell_type": "code",
   "execution_count": null,
   "id": "14e7c83c-954a-43ae-bf6b-b45530285cb5",
   "metadata": {},
   "outputs": [],
   "source": [
    "model3.fit(train_images, train_labels, epochs=5)\n",
    "test_loss, test_acc = model3.evaluate(test_images, test_labels)"
   ]
  },
  {
   "cell_type": "code",
   "execution_count": null,
   "id": "564a6d12-f053-4a10-9582-097156057d7e",
   "metadata": {},
   "outputs": [],
   "source": [
    "model3.fit(train_images, train_labels, epochs=5)\n",
    "test_loss, test_acc = model3.evaluate(test_images, test_labels)"
   ]
  },
  {
   "cell_type": "markdown",
   "id": "63f7de89-41fc-4408-8f99-dd01011c00af",
   "metadata": {},
   "source": [
    "## Fit of model 8\n"
   ]
  },
  {
   "cell_type": "code",
   "execution_count": null,
   "id": "f3dfdb5a-e39e-4396-90c9-7fcb26038fbe",
   "metadata": {},
   "outputs": [],
   "source": [
    "model8 = models.Sequential()\n",
    "model8.add(layers.Conv2D(32, (3, 3), activation='relu', input_shape=(80, 80, 3)))\n",
    "model8.add(layers.Conv2D(64, (3, 3), activation='relu'))\n",
    "model8.add(layers.MaxPooling2D((2, 2)))\n",
    "model8.add(layers.Dropout(0.1))\n",
    "model8.add(layers.Conv2D(64, (5, 5), activation='relu'))\n",
    "model8.add(layers.Conv2D(64, (5, 5), activation='relu'))\n",
    "model8.add(layers.MaxPooling2D((2, 2)))\n",
    "model8.add(layers.Conv2D(128, (5, 5), activation='relu'))\n",
    "\n",
    "\n",
    "model8.add(layers.Flatten())\n",
    "model8.add(layers.Dense(64, activation='relu'))\n",
    "model8.add(layers.Dense(2,activation='softmax'))\n",
    "\n",
    "model8.summary()"
   ]
  },
  {
   "cell_type": "code",
   "execution_count": null,
   "id": "48c92e49-a40c-436b-a543-a60f78fdbeb1",
   "metadata": {},
   "outputs": [],
   "source": [
    "model8.compile(optimizer='adam',\n",
    "              loss='sparse_categorical_crossentropy',\n",
    "              metrics=['accuracy'])\n",
    "\n",
    "model8.fit(train_images80, train_labels80, epochs=10)"
   ]
  },
  {
   "cell_type": "code",
   "execution_count": null,
   "id": "e8bdedf1-bc9d-46db-8418-4d64ac521b4a",
   "metadata": {},
   "outputs": [],
   "source": [
    "test_loss, test_acc = model3.evaluate(test_images, test_labels)"
   ]
  },
  {
   "cell_type": "code",
   "execution_count": null,
   "id": "ede1f8f5-6845-482c-8bab-1e8095efd0bc",
   "metadata": {},
   "outputs": [],
   "source": [
    "model3.fit(train_images, train_labels, epochs=5)\n",
    "test_loss, test_acc = model3.evaluate(test_images, test_labels)"
   ]
  },
  {
   "cell_type": "code",
   "execution_count": null,
   "id": "02999dc4-a8f2-496d-97f9-7a0141a8b4d8",
   "metadata": {},
   "outputs": [],
   "source": [
    "model3.fit(train_images, train_labels, epochs=5)\n",
    "test_loss, test_acc = model3.evaluate(test_images, test_labels)"
   ]
  },
  {
   "cell_type": "markdown",
   "id": "839f063b-1f9e-4ae9-93f0-d06967912a1b",
   "metadata": {},
   "source": [
    "## Fit of model11"
   ]
  },
  {
   "cell_type": "code",
   "execution_count": null,
   "id": "8ce7d901-04df-4807-a3b0-134218267771",
   "metadata": {},
   "outputs": [],
   "source": [
    "model11 = models.Sequential()\n",
    "model11.add(layers.ZeroPadding2D(padding=(2,2), input_shape=(80,80,3)))\n",
    "model11.add(layers.Conv2D(32, (5, 5), activation='relu'))\n",
    "model11.add(layers.ZeroPadding2D(padding=(2,2)))\n",
    "model11.add(layers.Conv2D(64, (5, 5), activation='relu'))\n",
    "model11.add(layers.MaxPooling2D((2, 2)))\n",
    "model11.add(layers.Dropout(0.1))\n",
    "model11.add(layers.ZeroPadding2D(padding=(2,2)))\n",
    "model11.add(layers.Conv2D(64, (5, 5), activation='relu'))\n",
    "model11.add(layers.ZeroPadding2D(padding=(2,2)))\n",
    "model11.add(layers.Conv2D(64, (5, 5), activation='relu'))\n",
    "model11.add(layers.MaxPooling2D((2, 2)))\n",
    "model11.add(layers.ZeroPadding2D(padding=(2,2)))\n",
    "\n",
    "\n",
    "model11.add(layers.Flatten())\n",
    "model11.add(layers.Dense(64, activation='relu'))\n",
    "model11.add(layers.Dense(2,activation='softmax'))\n",
    "\n",
    "model11.summary()"
   ]
  },
  {
   "cell_type": "code",
   "execution_count": null,
   "id": "e1361aff-efcc-42d8-94d3-2071a40998c1",
   "metadata": {},
   "outputs": [],
   "source": [
    "model11.compile(optimizer='adam',\n",
    "              loss='sparse_categorical_crossentropy',\n",
    "              metrics=['accuracy'])\n",
    "\n",
    "model11.fit(train_images80, train_labels80, epochs=5)"
   ]
  },
  {
   "cell_type": "code",
   "execution_count": null,
   "id": "9dba1c1b-3ecf-4209-aa15-d30c2bde0472",
   "metadata": {},
   "outputs": [],
   "source": [
    "test_loss, test_acc = model11.evaluate(test_images80, test_labels80)"
   ]
  },
  {
   "cell_type": "code",
   "execution_count": null,
   "id": "2868617c-1bc0-4118-910d-39f29e747f4f",
   "metadata": {},
   "outputs": [],
   "source": [
    "test_loss, test_acc = model11.evaluate(test_images80, test_labels80)"
   ]
  },
  {
   "cell_type": "markdown",
   "id": "5734265a-a2ae-4508-9fc2-5720d3171eca",
   "metadata": {},
   "source": [
    "# input data = 112 * 112\n",
    "this doesn't work maybe because of lack of a memory"
   ]
  },
  {
   "cell_type": "markdown",
   "id": "fa41c3c5-8981-41b2-b583-5d92dddcdbb8",
   "metadata": {},
   "source": [
    "(train_images112, train_labels112), (test_images112, test_labels112) = create_training_data(IMG_SIZE = 112)"
   ]
  },
  {
   "cell_type": "markdown",
   "id": "d9ea94ad-78e3-4260-a622-b6b9be144398",
   "metadata": {},
   "source": [
    "## Fit of model 9\n"
   ]
  },
  {
   "cell_type": "code",
   "execution_count": null,
   "id": "ebe0740b-4c25-434d-b04b-72271da4e8d6",
   "metadata": {},
   "outputs": [],
   "source": [
    "model9 = models.Sequential()\n",
    "model9.add(layers.ZeroPadding2D(padding=(1, 1), input_shape=(112, 112, 3)))\n",
    "model9.add(layers.Conv2D(32, (3, 3), activation='relu'))\n",
    "model9.add(layers.ZeroPadding2D(padding=(1, 1)))\n",
    "model9.add(layers.Conv2D(64, (3, 3), activation='relu'))\n",
    "model9.add(layers.MaxPooling2D((2, 2)))\n",
    "\n",
    "model9.add(layers.ZeroPadding2D(padding=(1, 1)))\n",
    "model9.add(layers.Conv2D(64, (3, 3), activation='relu'))\n",
    "model9.add(layers.ZeroPadding2D(padding=(1, 1)))\n",
    "model9.add(layers.Conv2D(64, (3, 3), activation='relu'))\n",
    "model9.add(layers.ZeroPadding2D(padding=(1, 1)))\n",
    "model9.add(layers.Conv2D(64, (3, 3), activation='relu'))\n",
    "model9.add(layers.MaxPooling2D((2, 2)))\n",
    "\n",
    "model9.add(layers.Conv2D(64, (3, 3), activation='relu'))\n",
    "model9.add(layers.ZeroPadding2D(padding=(1, 1)))\n",
    "model9.add(layers.Conv2D(64, (3, 3), activation='relu'))\n",
    "model9.add(layers.ZeroPadding2D(padding=(1, 1)))\n",
    "model9.add(layers.Conv2D(64, (3, 3), activation='relu'))\n",
    "model9.add(layers.MaxPooling2D((2, 2)))\n",
    "\n",
    "model9.add(layers.Conv2D(128, (5, 5), activation='relu'))\n",
    "\n",
    "\n",
    "model9.add(layers.Flatten())\n",
    "model9.add(layers.Dense(64, activation='relu'))\n",
    "model9.add(layers.Dense(2,activation='softmax'))\n",
    "\n",
    "model9.summary()"
   ]
  },
  {
   "cell_type": "code",
   "execution_count": null,
   "id": "0f914a11-a6e6-4278-9e2d-f16a0f26f85f",
   "metadata": {},
   "outputs": [],
   "source": [
    "model9.compile(optimizer='adam',\n",
    "              loss='sparse_categorical_crossentropy',\n",
    "              metrics=['accuracy'])\n",
    "\n",
    "model9.fit(train_images112, train_labels112, epochs=10)"
   ]
  },
  {
   "cell_type": "code",
   "execution_count": null,
   "id": "aa697b64-a445-40f8-a7e4-2a432e932058",
   "metadata": {},
   "outputs": [],
   "source": [
    "test_loss, test_acc = model3.evaluate(test_images, test_labels)"
   ]
  },
  {
   "cell_type": "code",
   "execution_count": null,
   "id": "fafc7cb5-c359-4dbb-8302-269fe5ee77f7",
   "metadata": {},
   "outputs": [],
   "source": [
    "model3.fit(train_images, train_labels, epochs=5)\n",
    "test_loss, test_acc = model3.evaluate(test_images, test_labels)"
   ]
  },
  {
   "cell_type": "code",
   "execution_count": null,
   "id": "3feec24d-a3f2-4a5b-ad76-cae8d2a63fa3",
   "metadata": {},
   "outputs": [],
   "source": [
    "model3.fit(train_images, train_labels, epochs=5)\n",
    "test_loss, test_acc = model3.evaluate(test_images, test_labels)"
   ]
  },
  {
   "cell_type": "markdown",
   "id": "b8b16669-4a9e-4d65-aa0f-2d83eb5ebe57",
   "metadata": {},
   "source": [
    "# evaluation of models"
   ]
  },
  {
   "cell_type": "code",
   "execution_count": null,
   "id": "41166a6f-ff74-4d67-b26c-a5c41e40412b",
   "metadata": {},
   "outputs": [],
   "source": [
    "class_names = ['dog', 'cat']"
   ]
  },
  {
   "cell_type": "code",
   "execution_count": null,
   "id": "b881d42c-1ce2-4144-a2fb-35943f8ba9e4",
   "metadata": {},
   "outputs": [],
   "source": [
    "def plot_image(i, predictions_array, true_label, img):\n",
    "    true_label, img = true_label[i], img[i]\n",
    "    plt.grid(False)\n",
    "    plt.xticks([])\n",
    "    plt.yticks([])\n",
    "    \n",
    "    plt.imshow(img, cmap=plt.cm.binary)\n",
    "    \n",
    "    predicted_label = np.argmax(predictions_array)\n",
    "    if predicted_label == true_label:\n",
    "        color='blue'\n",
    "    else:\n",
    "        color='red'\n",
    "        \n",
    "    plt.xlabel(\"{}{:2.0f}%({})\".format(class_names[predicted_label],\n",
    "                                       100*np.max(predictions_array),\n",
    "                                       class_names[true_label]),\n",
    "                                       color=color)\n",
    "\n",
    "def plot_value_array(i, predictions_array, true_label):\n",
    "    true_label = true_label[i]\n",
    "    plt.grid(False)\n",
    "    plt.xticks(range(2))\n",
    "    plt.yticks([])\n",
    "    thisplot = plt.bar(range(2), predictions_array, color=\"#777777\")\n",
    "    plt.ylim([0,1])\n",
    "    predicted_label = np.argmax(predictions_array)\n",
    "    \n",
    "    thisplot[predicted_label].set_color('red')\n",
    "    thisplot[true_label].set_color('blue')"
   ]
  },
  {
   "cell_type": "markdown",
   "id": "d34b3201-1950-41ec-9737-9b837ee26dab",
   "metadata": {},
   "source": [
    "## model1"
   ]
  },
  {
   "cell_type": "code",
   "execution_count": null,
   "id": "0d783542-8d4e-4fe8-8fe3-73a4c66cb72e",
   "metadata": {},
   "outputs": [],
   "source": [
    "probability_model = tf.keras.Sequential([model,\n",
    "                                         tf.keras.layers.Softmax()])\n",
    "predictions = probability_model.predict(test_images)"
   ]
  },
  {
   "cell_type": "code",
   "execution_count": null,
   "id": "a75d5f86-b409-4fc2-b089-8d53895fc82d",
   "metadata": {},
   "outputs": [],
   "source": [
    "num_rows = 5\n",
    "num_cols = 5\n",
    "num_images = num_rows*num_cols\n",
    "plt.figure(figsize=(2*2*num_cols, 2*num_rows))\n",
    "\n",
    "batch_mask = np.random.choice(len(test_images), num_images)\n",
    "img_batch = test_images[batch_mask]\n",
    "label_batch = test_labels[batch_mask]\n",
    "\n",
    "for i in range(num_images):\n",
    "    plt.subplot(num_rows, 2*num_cols, 2*i+1)\n",
    "    plot_image(i, predictions[i], label_batch, img_batch)\n",
    "    plt.subplot(num_rows, 2*num_cols, 2*i+2)\n",
    "    plot_value_array(i, predictions[i], label_batch)\n",
    "plt.tight_layout()\n",
    "plt.show()"
   ]
  },
  {
   "cell_type": "markdown",
   "id": "933ec22c-6827-499d-a2d1-eae61a0348ca",
   "metadata": {},
   "source": [
    "## model 3\n",
    "almost all results become dogs"
   ]
  },
  {
   "cell_type": "code",
   "execution_count": null,
   "id": "662a286e-0afd-4562-aafc-a55539ac1ed0",
   "metadata": {},
   "outputs": [],
   "source": [
    "probability_model3 = tf.keras.Sequential([model3,\n",
    "                                         tf.keras.layers.Softmax()])\n",
    "predictions3 = probability_model3.predict(test_images)"
   ]
  },
  {
   "cell_type": "code",
   "execution_count": null,
   "id": "1b005415-07cd-4a3b-a0e4-eca1dc06abc2",
   "metadata": {},
   "outputs": [],
   "source": [
    "num_rows = 5\n",
    "num_cols = 5\n",
    "num_images = num_rows*num_cols\n",
    "plt.figure(figsize=(2*2*num_cols, 2*num_rows))\n",
    "\n",
    "batch_mask = np.random.choice(len(test_images), num_images)\n",
    "img_batch = test_images[batch_mask]\n",
    "label_batch = test_labels[batch_mask]\n",
    "predictions_batch = predictions3[batch_mask]\n",
    "\n",
    "for i in range(num_images):\n",
    "    plt.subplot(num_rows, 2*num_cols, 2*i+1)\n",
    "    plot_image(i, predictions_batch[i], label_batch, img_batch)\n",
    "    plt.subplot(num_rows, 2*num_cols, 2*i+2)\n",
    "    plot_value_array(i, predictions_batch[i], label_batch)\n",
    "plt.tight_layout()\n",
    "plt.show()"
   ]
  },
  {
   "cell_type": "markdown",
   "id": "4d12ef5e-3b22-4099-a752-ad8998702927",
   "metadata": {},
   "source": [
    "## model 5"
   ]
  },
  {
   "cell_type": "code",
   "execution_count": null,
   "id": "0767910f-0958-4b94-bb43-0ac428ca05c7",
   "metadata": {},
   "outputs": [],
   "source": [
    "probability_model5 = tf.keras.Sequential([model5,\n",
    "                                         tf.keras.layers.Softmax()])\n",
    "predictions5 = probability_model5.predict(test_images)"
   ]
  },
  {
   "cell_type": "code",
   "execution_count": null,
   "id": "268ba049-ccc6-41ce-a96a-e3bc930beab1",
   "metadata": {},
   "outputs": [],
   "source": [
    "num_rows = 5\n",
    "num_cols = 5\n",
    "num_images = num_rows*num_cols\n",
    "plt.figure(figsize=(2*2*num_cols, 2*num_rows))\n",
    "\n",
    "batch_mask = np.random.choice(len(test_images), num_images)\n",
    "img_batch = test_images[batch_mask]\n",
    "label_batch = test_labels[batch_mask]\n",
    "\n",
    "for i in range(num_images):\n",
    "    plt.subplot(num_rows, 2*num_cols, 2*i+1)\n",
    "    plot_image(i, predictions5[i], label_batch, img_batch)\n",
    "    plt.subplot(num_rows, 2*num_cols, 2*i+2)\n",
    "    plot_value_array(i, predictions5[i], label_batch)\n",
    "plt.tight_layout()\n",
    "plt.show()"
   ]
  },
  {
   "cell_type": "markdown",
   "id": "d5955ddc-7de4-4f41-bbbc-4c61b9d436bf",
   "metadata": {},
   "source": [
    "## model 10\n",
    "almost all results become dogs"
   ]
  },
  {
   "cell_type": "code",
   "execution_count": null,
   "id": "c680f2a3-704b-4577-8158-55c78e1c33b6",
   "metadata": {},
   "outputs": [],
   "source": [
    "probability_model10 = tf.keras.Sequential([model10,\n",
    "                                         tf.keras.layers.Softmax()])\n",
    "predictions10 = probability_model10.predict(test_images)"
   ]
  },
  {
   "cell_type": "code",
   "execution_count": null,
   "id": "3825c099-9931-4304-abe9-298692ceea34",
   "metadata": {},
   "outputs": [],
   "source": [
    "num_rows = 5\n",
    "num_cols = 5\n",
    "num_images = num_rows*num_cols\n",
    "plt.figure(figsize=(2*2*num_cols, 2*num_rows))\n",
    "\n",
    "batch_mask = np.random.choice(len(test_images), num_images)\n",
    "img_batch = test_images[batch_mask]\n",
    "label_batch = test_labels[batch_mask]\n",
    "predictions_batch = predictions10[batch_mask]\n",
    "\n",
    "for i in range(num_images):\n",
    "    plt.subplot(num_rows, 2*num_cols, 2*i+1)\n",
    "    plot_image(i, predictions_batch[i], label_batch, img_batch)\n",
    "    plt.subplot(num_rows, 2*num_cols, 2*i+2)\n",
    "    plot_value_array(i, predictions_batch[i], label_batch)\n",
    "plt.tight_layout()\n",
    "plt.show()"
   ]
  },
  {
   "cell_type": "markdown",
   "id": "5513a53c-483b-4764-acc9-57b73302c08b",
   "metadata": {},
   "source": [
    "## model 11"
   ]
  },
  {
   "cell_type": "code",
   "execution_count": null,
   "id": "f17d79ef-0878-4b6b-8fd6-354f42c4b242",
   "metadata": {},
   "outputs": [],
   "source": [
    "probability_model11 = tf.keras.Sequential([model11,\n",
    "                                         tf.keras.layers.Softmax()])\n",
    "predictions11 = probability_model11.predict(test_images)"
   ]
  },
  {
   "cell_type": "code",
   "execution_count": null,
   "id": "319ad775-b12e-45ad-93d2-e71f149acafa",
   "metadata": {},
   "outputs": [],
   "source": [
    "num_rows = 5\n",
    "num_cols = 5\n",
    "num_images = num_rows*num_cols\n",
    "plt.figure(figsize=(2*2*num_cols, 2*num_rows))\n",
    "\n",
    "batch_mask = np.random.choice(len(test_images), num_images)\n",
    "img_batch = test_images[batch_mask]\n",
    "label_batch = test_labels[batch_mask]\n",
    "predictions_batch = predictions11[batch_mask]\n",
    "\n",
    "for i in range(num_images):\n",
    "    plt.subplot(num_rows, 2*num_cols, 2*i+1)\n",
    "    plot_image(i, predictions_batch[i], label_batch, img_batch)\n",
    "    plt.subplot(num_rows, 2*num_cols, 2*i+2)\n",
    "    plot_value_array(i, predictions_batch[i], label_batch)\n",
    "plt.tight_layout()\n",
    "plt.show()"
   ]
  },
  {
   "cell_type": "markdown",
   "id": "77fa89ff-7e82-46b5-9029-21720396387e",
   "metadata": {},
   "source": [
    "## model 13"
   ]
  },
  {
   "cell_type": "code",
   "execution_count": null,
   "id": "f6aeafc0-9e3d-4c51-b688-d8529c907386",
   "metadata": {},
   "outputs": [],
   "source": [
    "probability_model13 = tf.keras.Sequential([model13,\n",
    "                                         tf.keras.layers.Softmax()])\n",
    "predictions13 = probability_model13.predict(test_images_p)"
   ]
  },
  {
   "cell_type": "code",
   "execution_count": null,
   "id": "c85cfd61-e56f-4fd6-8557-129a4b6bd555",
   "metadata": {},
   "outputs": [],
   "source": [
    "num_rows = 5\n",
    "num_cols = 5\n",
    "num_images = num_rows*num_cols\n",
    "plt.figure(figsize=(2*2*num_cols, 2*num_rows))\n",
    "\n",
    "batch_mask = np.random.choice(len(test_images), num_images)\n",
    "img_batch = test_images[batch_mask]\n",
    "label_batch = test_labels[batch_mask]\n",
    "predictions_batch = predictions13[batch_mask]\n",
    "\n",
    "for i in range(num_images):\n",
    "    plt.subplot(num_rows, 2*num_cols, 2*i+1)\n",
    "    plot_image(i, predictions_batch[i], label_batch, img_batch)\n",
    "    plt.subplot(num_rows, 2*num_cols, 2*i+2)\n",
    "    plot_value_array(i, predictions_batch[i], label_batch)\n",
    "plt.tight_layout()\n",
    "plt.show()"
   ]
  },
  {
   "cell_type": "code",
   "execution_count": null,
   "id": "acf4bf8e-efd4-415e-825a-5824342f0973",
   "metadata": {},
   "outputs": [],
   "source": []
  },
  {
   "cell_type": "code",
   "execution_count": null,
   "id": "e7856a8d-fd95-4ae5-9b26-007e743fdca5",
   "metadata": {},
   "outputs": [],
   "source": []
  }
 ],
 "metadata": {
  "kernelspec": {
   "display_name": "Python 3 (ipykernel)",
   "language": "python",
   "name": "python3"
  },
  "language_info": {
   "codemirror_mode": {
    "name": "ipython",
    "version": 3
   },
   "file_extension": ".py",
   "mimetype": "text/x-python",
   "name": "python",
   "nbconvert_exporter": "python",
   "pygments_lexer": "ipython3",
   "version": "3.8.10"
  }
 },
 "nbformat": 4,
 "nbformat_minor": 5
}
