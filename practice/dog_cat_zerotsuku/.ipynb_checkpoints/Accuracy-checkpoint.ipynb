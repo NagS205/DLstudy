{
 "cells": [
  {
   "cell_type": "code",
   "execution_count": 1,
   "id": "a1d89735-25ab-4665-8f89-b6bb6861a0d3",
   "metadata": {},
   "outputs": [],
   "source": [
    "# coding: utf-8\n",
    "import sys, os\n",
    "sys.path.append(os.path.abspath('~/deep/deep-learning-from-scratch/'))\n",
    "sys.path.append(os.path.abspath('src/'))\n",
    "import pickle\n",
    "import numpy as np\n",
    "import matplotlib.pyplot as plt\n",
    "from mnist import load_mnist\n",
    "from simpleconvnet import SimpleConvNet\n",
    "from trainer import Trainer\n",
    "from collections import OrderedDict\n",
    "from LoadDogs import create_training_data\n",
    "\n"
   ]
  },
  {
   "cell_type": "code",
   "execution_count": 2,
   "id": "c8af1c3e-1b6b-4966-ae69-baa2503b1653",
   "metadata": {
    "tags": []
   },
   "outputs": [],
   "source": [
    "(x_train, t_train), (x_test, t_test) = create_training_data()"
   ]
  },
  {
   "cell_type": "code",
   "execution_count": 3,
   "id": "9ee7624f-eab8-4dc9-a570-f1124166e5da",
   "metadata": {},
   "outputs": [
    {
     "data": {
      "text/plain": [
       "(799, 80, 80, 3)"
      ]
     },
     "execution_count": 3,
     "metadata": {},
     "output_type": "execute_result"
    }
   ],
   "source": [
    "x_train.shape"
   ]
  },
  {
   "cell_type": "code",
   "execution_count": 4,
   "id": "afdaf427-99f7-44a8-b22e-cd30d1610b12",
   "metadata": {},
   "outputs": [],
   "source": [
    "max_epochs = 2\n",
    "\n",
    "network = SimpleConvNet(input_dim=(3,80,80), \n",
    "                        conv_param = {'filter_num': 50, 'filter_size': 9, 'pad': 0, 'stride': 1},\n",
    "                        hidden_size=100, output_size=2, weight_init_std=0.01)\n",
    "                        \n",
    "trainer = Trainer(network, x_train, t_train, x_test, t_test,\n",
    "                  epochs=max_epochs, mini_batch_size=32,\n",
    "                  optimizer='Adam', optimizer_param={'lr': 0.001},\n",
    "                  evaluate_sample_num_per_epoch=100)\n"
   ]
  },
  {
   "cell_type": "markdown",
   "id": "78c74200-1f9d-4c92-b461-4a048246906a",
   "metadata": {},
   "source": [
    "test_acc = []\n",
    "\n",
    "for i in range(trainer.max_iter):\n",
    "    trainer.train_step()\n",
    "\n",
    "    test_acc.append(trainer.network.accuracy(trainer.x_test, trainer.t_test))"
   ]
  },
  {
   "cell_type": "code",
   "execution_count": 5,
   "id": "d77dc3af-38e7-45ea-8d73-480cacc1425a",
   "metadata": {},
   "outputs": [
    {
     "data": {
      "text/plain": [
       "25"
      ]
     },
     "execution_count": 5,
     "metadata": {},
     "output_type": "execute_result"
    }
   ],
   "source": [
    "trainer.iter_per_epoch"
   ]
  },
  {
   "cell_type": "code",
   "execution_count": 6,
   "id": "7c3b9ed9-e271-4068-ada7-32d15dcb8162",
   "metadata": {},
   "outputs": [
    {
     "name": "stdout",
     "output_type": "stream",
     "text": [
      "iter: 1 / 50\n",
      "train loss:8.562738267696588\n",
      "iter: 2 / 50\n",
      "train loss:1.93649266363068\n",
      "iter: 3 / 50\n",
      "train loss:5.309416571519279\n",
      "iter: 4 / 50\n",
      "train loss:3.9207610273945654\n",
      "iter: 5 / 50\n",
      "train loss:1.5462907767735516\n",
      "iter: 6 / 50\n",
      "train loss:1.4182473443577706\n",
      "iter: 7 / 50\n",
      "train loss:0.6569270108160914\n",
      "iter: 8 / 50\n",
      "train loss:0.9989069815912788\n",
      "iter: 9 / 50\n",
      "train loss:0.9580049722285333\n",
      "iter: 10 / 50\n",
      "train loss:0.5747140068065042\n",
      "iter: 11 / 50\n",
      "train loss:0.7646895242652169\n",
      "iter: 12 / 50\n",
      "train loss:0.7451565168577012\n",
      "iter: 13 / 50\n",
      "train loss:0.6787939990650558\n",
      "iter: 14 / 50\n",
      "train loss:0.7012741665092188\n",
      "iter: 15 / 50\n",
      "train loss:0.6970554166932037\n",
      "iter: 16 / 50\n",
      "train loss:0.7057585877372499\n",
      "iter: 17 / 50\n",
      "train loss:0.7137499188901881\n",
      "iter: 18 / 50\n",
      "train loss:0.7144504454557717\n",
      "iter: 19 / 50\n",
      "train loss:0.6911378377061148\n",
      "iter: 20 / 50\n",
      "train loss:0.6955113505084594\n",
      "iter: 21 / 50\n",
      "train loss:0.6881228067392\n",
      "iter: 22 / 50\n",
      "train loss:0.6875564888271166\n",
      "iter: 23 / 50\n",
      "train loss:0.6871838395774995\n",
      "iter: 24 / 50\n",
      "train loss:0.6893813151475279\n",
      "iter: 25 / 50\n",
      "train loss:0.6919585279237372\n",
      "=== epoch:1, train acc:0.68, test acc:0.68 ===\n",
      "iter: 26 / 50\n",
      "train loss:0.6934713599528016\n",
      "iter: 27 / 50\n",
      "train loss:0.6937651136938887\n",
      "iter: 28 / 50\n",
      "train loss:0.6900497927557844\n",
      "iter: 29 / 50\n",
      "train loss:0.6857144182459236\n",
      "iter: 30 / 50\n",
      "train loss:0.689619110746964\n",
      "iter: 31 / 50\n",
      "train loss:0.6920409516747816\n",
      "iter: 32 / 50\n",
      "train loss:0.6916655358939992\n",
      "iter: 33 / 50\n",
      "train loss:0.6899759055156118\n",
      "iter: 34 / 50\n",
      "train loss:0.6862871706435005\n",
      "iter: 35 / 50\n",
      "train loss:0.6909246559361671\n",
      "iter: 36 / 50\n",
      "train loss:0.6929198886487884\n",
      "iter: 37 / 50\n",
      "train loss:0.6914801383134304\n",
      "iter: 38 / 50\n",
      "train loss:0.6880587245594956\n",
      "iter: 39 / 50\n",
      "train loss:0.6895544833891086\n",
      "iter: 40 / 50\n",
      "train loss:0.6897924651407816\n",
      "iter: 41 / 50\n",
      "train loss:0.6930781061584581\n",
      "iter: 42 / 50\n",
      "train loss:0.6898076306550662\n",
      "iter: 43 / 50\n",
      "train loss:0.6863913763447085\n",
      "iter: 44 / 50\n",
      "train loss:0.6965122373311947\n",
      "iter: 45 / 50\n",
      "train loss:0.6869379302297449\n",
      "iter: 46 / 50\n",
      "train loss:0.6920928744719994\n",
      "iter: 47 / 50\n",
      "train loss:0.6934412322522485\n",
      "iter: 48 / 50\n",
      "train loss:0.6977031994386551\n",
      "iter: 49 / 50\n",
      "train loss:0.6871574644419344\n",
      "iter: 50 / 50\n",
      "train loss:0.691161190846672\n",
      "=== epoch:2, train acc:0.34, test acc:0.31 ===\n",
      "=============== Final Test Accuracy ===============\n",
      "test acc:0.4493116395494368\n"
     ]
    }
   ],
   "source": [
    "trainer.train()"
   ]
  },
  {
   "cell_type": "code",
   "execution_count": 7,
   "id": "1833853a-6e43-4cec-98e6-a99cb337a96b",
   "metadata": {},
   "outputs": [
    {
     "name": "stdout",
     "output_type": "stream",
     "text": [
      "Saved Network Parameters!\n"
     ]
    },
    {
     "data": {
      "image/png": "[encoded data removed]",
      "text/plain": [
       "<Figure size 432x288 with 1 Axes>"
      ]
     },
     "metadata": {
      "needs_background": "light"
     },
     "output_type": "display_data"
    }
   ],
   "source": [
    "network.save_params(\"params.pkl\")\n",
    "print(\"Saved Network Parameters!\")\n",
    "\n",
    "\n",
    "markers = {'train': 'o', 'test': 's'}\n",
    "x = np.arange(max_epochs)\n",
    "plt.plot(x, trainer.train_acc_list, marker='o', label='train', markevery=2)\n",
    "plt.plot(x, trainer.test_acc_list, marker='s', label='test', markevery=2)\n",
    "plt.xlabel(\"epochs\")\n",
    "plt.ylabel(\"accuracy\")\n",
    "plt.ylim(0, 1.0)\n",
    "plt.legend(loc='lower right')\n",
    "plt.show()"
   ]
  },
  {
   "cell_type": "code",
   "execution_count": 8,
   "id": "6ec66468-bb54-4073-9e20-06cd9664f06a",
   "metadata": {},
   "outputs": [
    {
     "data": {
      "text/plain": [
       "array([0, 1])"
      ]
     },
     "execution_count": 8,
     "metadata": {},
     "output_type": "execute_result"
    }
   ],
   "source": [
    "x"
   ]
  },
  {
   "cell_type": "code",
   "execution_count": 9,
   "id": "f6286f9f-b8db-4af1-b65c-75e45694504f",
   "metadata": {},
   "outputs": [
    {
     "data": {
      "text/plain": [
       "[0.68, 0.34]"
      ]
     },
     "execution_count": 9,
     "metadata": {},
     "output_type": "execute_result"
    }
   ],
   "source": [
    "trainer.train_acc_list"
   ]
  },
  {
   "cell_type": "code",
   "execution_count": null,
   "id": "a76281f6-1dea-438f-b99b-9136f107757f",
   "metadata": {},
   "outputs": [],
   "source": []
  }
 ],
 "metadata": {
  "kernelspec": {
   "display_name": "Python 3 (ipykernel)",
   "language": "python",
   "name": "python3"
  },
  "language_info": {
   "codemirror_mode": {
    "name": "ipython",
    "version": 3
   },
   "file_extension": ".py",
   "mimetype": "text/x-python",
   "name": "python",
   "nbconvert_exporter": "python",
   "pygments_lexer": "ipython3",
   "version": "3.8.10"
  }
 },
 "nbformat": 4,
 "nbformat_minor": 5
}
